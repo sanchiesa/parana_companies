{
 "cells": [
  {
   "cell_type": "markdown",
   "id": "619ee984",
   "metadata": {
    "slideshow": {
     "slide_type": "skip"
    }
   },
   "source": [
    "#Enabling interactive plots\n",
    "\n",
    "from IPython.display import Javascript\n",
    "from plotly.offline import get_plotlyjs\n",
    "Javascript(get_plotlyjs())"
   ]
  },
  {
   "cell_type": "code",
   "execution_count": null,
   "id": "f4765f74",
   "metadata": {
    "slideshow": {
     "slide_type": "skip"
    }
   },
   "outputs": [],
   "source": [
    "from IPython.display import Javascript\n",
    "Javascript(\n",
    "\"\"\"require.config({\n",
    " paths: { \n",
    "     plotly: 'https://cdn.plot.ly/plotly-latest.min'\n",
    " }\n",
    "});\"\"\"\n",
    ")"
   ]
  },
  {
   "cell_type": "markdown",
   "id": "617f9d3c",
   "metadata": {
    "slideshow": {
     "slide_type": "slide"
    }
   },
   "source": [
    "# Understanding Companies in Paraná\n",
    "\n",
    "## By Santiago Chiesa\n",
    "\n",
    "## May 2022"
   ]
  },
  {
   "cell_type": "markdown",
   "id": "5d478bcd",
   "metadata": {
    "slideshow": {
     "slide_type": "skip"
    }
   },
   "source": [
    "# Instructions\n",
    "\n",
    "\n",
    "● **Preprocess the dataset**\n",
    "\n",
    "○ Clean (preprocess all “odd” columns, and pre-process values)\n",
    "\n",
    "○ Enrich (get data from grouping operations, maybe enrich in different ways 👀)\n",
    "\n",
    "● Perform EDA (exploratory data analysis) on the dataset\n",
    "\n",
    "○ Generate visualizations\n",
    "\n",
    "○ Share your insights and conclusions\n",
    "\n",
    "● Preferably use Python\n",
    "\n",
    "\n",
    "**Open Questions (optional):**\n",
    "\n",
    "● Any conclusions based on the number of companies created by date, month, year etc?\n",
    "\n",
    "● Does the number of branches for a CNPJ provided on the dataset is equal to the actual\n",
    "number produced by the dataset?\n",
    "\n",
    "● What about the business activities (CNAE)? What are the main types? Can they be\n",
    "aggregated into fewer groups?\n",
    "\n",
    "● What are the differences between the cities / zip codes?\n",
    "\n",
    "● Is it possible to catch any spatial relationships? Which visualizations would be best in\n",
    "this case?\n",
    "\n",
    "● If you were to make any model from the data, which one do you think makes sense?\n",
    "\n"
   ]
  },
  {
   "cell_type": "markdown",
   "id": "3ab7048d",
   "metadata": {
    "slideshow": {
     "slide_type": "skip"
    }
   },
   "source": [
    "# Importing libraries and reading data"
   ]
  },
  {
   "cell_type": "code",
   "execution_count": null,
   "id": "e69ca857",
   "metadata": {
    "slideshow": {
     "slide_type": "skip"
    }
   },
   "outputs": [],
   "source": [
    "#Imports \n",
    "import pandas as pd\n",
    "import numpy as np\n",
    "import matplotlib.pyplot as plt\n",
    "%matplotlib inline\n",
    "import seaborn as sns\n",
    "from sqlalchemy import create_engine\n",
    "from sklearn.model_selection import train_test_split\n",
    "import pymysql\n",
    "import pandas_profiling\n",
    "import re\n",
    "from datetime import datetime\n",
    "import plotly.express as px\n",
    "import plotly.graph_objs as go\n",
    "from plotly.subplots import make_subplots"
   ]
  },
  {
   "cell_type": "code",
   "execution_count": null,
   "id": "93d8e08b",
   "metadata": {
    "slideshow": {
     "slide_type": "skip"
    }
   },
   "outputs": [],
   "source": [
    "#import plotly\n",
    "#plotly.offline.init_notebook_mode (connected = True)"
   ]
  },
  {
   "cell_type": "code",
   "execution_count": null,
   "id": "6af5264c",
   "metadata": {
    "slideshow": {
     "slide_type": "skip"
    }
   },
   "outputs": [],
   "source": [
    "df = pd.read_csv('../data/raw_data.csv')"
   ]
  },
  {
   "cell_type": "code",
   "execution_count": null,
   "id": "ce58abe0",
   "metadata": {
    "slideshow": {
     "slide_type": "skip"
    }
   },
   "outputs": [],
   "source": [
    "df.head()"
   ]
  },
  {
   "cell_type": "markdown",
   "id": "5a107f02",
   "metadata": {
    "slideshow": {
     "slide_type": "slide"
    }
   },
   "source": [
    "# Introduction\n",
    "\n",
    "\n",
    "In this assignment, I elaborated an overview of companies in the state of Paraná,  Brasil. I was provided company registration data from Receita Federal.\n",
    "\n",
    "I added data from the Brazilian Ministry of Economics, the Institute of Geography and Statistics. Data and open source data I found in Github.\n",
    "\n",
    "Data has been processed and analyzed using Python and Jupyter notebook. The work is stored in the following Github Repository: \n",
    "\n",
    "https://github.com/sanchiesa/parana_companies\n",
    "\n"
   ]
  },
  {
   "cell_type": "markdown",
   "id": "d0e9f2ba",
   "metadata": {
    "slideshow": {
     "slide_type": "slide"
    }
   },
   "source": [
    "# Introduction\n",
    "\n",
    "First, I’ll give a brief introduction of the State of Paraná. Then, I’ll use company registration data to provide an overview of the companies’ landscape there. I'll focus on their geographic location, economic activity, number of openings and their social capital.  I'll be answering crucial questions to better understand companies in Paraná:\n",
    "\n",
    "\n",
    "Who are they?\n",
    "\n",
    "Where are they?\n",
    "\n",
    "What do they do?\n",
    "\n",
    "When and how did it all happen?\n",
    "\n",
    "Insights will be presented from both historical current, and future perspective. \n",
    "\n",
    "Finally, I’ll summarize insights and comment on this analysis limitations, suggesting next steps for its improvement."
   ]
  },
  {
   "cell_type": "markdown",
   "id": "1a567142",
   "metadata": {
    "heading_collapsed": true,
    "slideshow": {
     "slide_type": "slide"
    }
   },
   "source": [
    "# Agenda\n",
    "\n",
    "1. Overview (Who are they?)\n",
    "2. Geographic Distribution (Where are they?)\n",
    "3. Economic Activity (What do they do?)\n",
    "4. Limitations\n",
    "5. Next Steps\n",
    "6. Conclusions"
   ]
  },
  {
   "cell_type": "markdown",
   "id": "0f1b5c78",
   "metadata": {
    "slideshow": {
     "slide_type": "skip"
    }
   },
   "source": [
    "# Data cleaning"
   ]
  },
  {
   "cell_type": "code",
   "execution_count": null,
   "id": "e9a9ced2",
   "metadata": {
    "slideshow": {
     "slide_type": "skip"
    }
   },
   "outputs": [],
   "source": [
    "# Data overview\n",
    "df.info()"
   ]
  },
  {
   "cell_type": "code",
   "execution_count": null,
   "id": "d2b9de6a",
   "metadata": {
    "slideshow": {
     "slide_type": "skip"
    }
   },
   "outputs": [],
   "source": [
    "# Checking data types\n",
    "\n",
    "df.dtypes"
   ]
  },
  {
   "cell_type": "code",
   "execution_count": null,
   "id": "c496b519",
   "metadata": {
    "slideshow": {
     "slide_type": "skip"
    }
   },
   "outputs": [],
   "source": [
    "# Checking duplicates\n",
    "\n",
    "df.duplicated().sum() / len(df)"
   ]
  },
  {
   "cell_type": "code",
   "execution_count": null,
   "id": "facd01be",
   "metadata": {
    "slideshow": {
     "slide_type": "skip"
    }
   },
   "outputs": [],
   "source": [
    "# Checking nulls\n",
    "\n",
    "df.isna().sum() / len(df)"
   ]
  },
  {
   "cell_type": "code",
   "execution_count": null,
   "id": "c6bc1d46",
   "metadata": {
    "slideshow": {
     "slide_type": "skip"
    }
   },
   "outputs": [],
   "source": [
    "#Checking column values\n",
    "for column in df.columns:\n",
    "    print(df[column].value_counts().head(20))\n",
    "    print(df[column].value_counts().tail(10))\n",
    "    print()\n",
    "    print()"
   ]
  },
  {
   "cell_type": "code",
   "execution_count": null,
   "id": "f70e1cfd",
   "metadata": {
    "slideshow": {
     "slide_type": "skip"
    }
   },
   "outputs": [],
   "source": [
    "# Correcting cnpj_basico column with the first 8 digits of the document_number\n",
    "\n",
    "df['cnpj_basico'] = df.document_number.apply(lambda x: int(str(x)[0:8]))"
   ]
  },
  {
   "cell_type": "code",
   "execution_count": null,
   "id": "0ab460d5",
   "metadata": {
    "slideshow": {
     "slide_type": "skip"
    }
   },
   "outputs": [],
   "source": [
    "df['cnpj_basico'].value_counts()"
   ]
  },
  {
   "cell_type": "code",
   "execution_count": null,
   "id": "c09b6243",
   "metadata": {
    "slideshow": {
     "slide_type": "skip"
    }
   },
   "outputs": [],
   "source": [
    "# Replacing nulls\n",
    "\n",
    "df.nome_fantasia.fillna('Missing_Name', inplace=True)\n",
    "df.email_provider.fillna('Missing_Email', inplace=True)\n",
    "\n",
    "\n"
   ]
  },
  {
   "cell_type": "code",
   "execution_count": null,
   "id": "158894bc",
   "metadata": {
    "slideshow": {
     "slide_type": "skip"
    }
   },
   "outputs": [],
   "source": [
    "# Replacing nome_fantasia with odd values\n",
    "\n",
    "df.loc[df.nome_fantasia=='.', 'nome_fantasia'] = 'Missing_Name'\n",
    "df.loc[df.nome_fantasia=='***', 'nome_fantasia'] = 'Missing_Name'\n",
    "df.loc[df.nome_fantasia=='****', 'nome_fantasia'] = 'Missing_Name'\n",
    "df.loc[df.nome_fantasia=='*****', 'nome_fantasia'] = 'Missing_Name'\n",
    "df.loc[df.nome_fantasia=='******', 'nome_fantasia'] = 'Missing_Name'\n",
    "df.loc[df.nome_fantasia=='*******', 'nome_fantasia'] = 'Missing_Name'\n",
    "df.loc[df.nome_fantasia=='********', 'nome_fantasia'] = 'Missing_Name'"
   ]
  },
  {
   "cell_type": "code",
   "execution_count": null,
   "id": "66549e37",
   "metadata": {
    "slideshow": {
     "slide_type": "skip"
    }
   },
   "outputs": [],
   "source": [
    "# Modifying dates\n",
    "\n",
    "# Extracting year\n",
    "df.opening_date[0]\n",
    "\n",
    "# Extracting day \n",
    "\n",
    "# Extracting month\n",
    "\n",
    "# Replacing month by number with dictionary (?)"
   ]
  },
  {
   "cell_type": "code",
   "execution_count": null,
   "id": "ce5f284e",
   "metadata": {
    "slideshow": {
     "slide_type": "skip"
    }
   },
   "outputs": [],
   "source": [
    "# Extracting date year\n",
    "df['opening_year'] = df.opening_date.apply(lambda x: x[-4:])\n"
   ]
  },
  {
   "cell_type": "code",
   "execution_count": null,
   "id": "6e4704ff",
   "metadata": {
    "slideshow": {
     "slide_type": "skip"
    }
   },
   "outputs": [],
   "source": [
    "# Extracting date day\n",
    "df['opening_day'] = df.opening_date.apply(lambda x: x[0:2])\n"
   ]
  },
  {
   "cell_type": "code",
   "execution_count": null,
   "id": "ffc7de3b",
   "metadata": {
    "slideshow": {
     "slide_type": "skip"
    }
   },
   "outputs": [],
   "source": [
    "# Extracting date month\n",
    "df['opening_month']= df.opening_date.apply(lambda x: \"\".join(re.findall(\"[a-zA-Z]+\", x)).strip('de'))"
   ]
  },
  {
   "cell_type": "code",
   "execution_count": null,
   "id": "3f29c530",
   "metadata": {
    "slideshow": {
     "slide_type": "skip"
    }
   },
   "outputs": [],
   "source": [
    "# Creating month names list\n",
    "month_names = list(df.opening_month.value_counts().index)\n",
    " "
   ]
  },
  {
   "cell_type": "code",
   "execution_count": null,
   "id": "88cff045",
   "metadata": {
    "slideshow": {
     "slide_type": "skip"
    }
   },
   "outputs": [],
   "source": [
    "# Creating month numbers list\n",
    "month_numbers= ['03', '05', '02', '01', '04', '08', '06', '07', '10', '09', '11', '12']"
   ]
  },
  {
   "cell_type": "code",
   "execution_count": null,
   "id": "93a708f5",
   "metadata": {
    "slideshow": {
     "slide_type": "skip"
    }
   },
   "outputs": [],
   "source": [
    "# Creating function to replace values\n",
    "def replacer(to_replace, list_1, list_2):\n",
    "    for i in range(len(list_1)):\n",
    "        if to_replace == list_1[i]:\n",
    "            to_replace = list_2[i]\n",
    "    return to_replace\n",
    "    "
   ]
  },
  {
   "cell_type": "code",
   "execution_count": null,
   "id": "04458280",
   "metadata": {
    "slideshow": {
     "slide_type": "skip"
    }
   },
   "outputs": [],
   "source": [
    "# Testing function\n",
    "foo = 'julho'\n",
    "replacer(foo, month_names, month_numbers)"
   ]
  },
  {
   "cell_type": "code",
   "execution_count": null,
   "id": "9d45c58b",
   "metadata": {
    "slideshow": {
     "slide_type": "skip"
    }
   },
   "outputs": [],
   "source": [
    "# Replacing month names for numbers\n",
    "df['opening_month'] = df.opening_month.apply(lambda x: replacer(x, month_names, month_numbers))"
   ]
  },
  {
   "cell_type": "code",
   "execution_count": null,
   "id": "61338cb7",
   "metadata": {
    "slideshow": {
     "slide_type": "skip"
    }
   },
   "outputs": [],
   "source": [
    "df['opening_month_year'] = df.opening_month + '-' + df.opening_year"
   ]
  },
  {
   "cell_type": "code",
   "execution_count": null,
   "id": "49ab06e6",
   "metadata": {
    "slideshow": {
     "slide_type": "skip"
    }
   },
   "outputs": [],
   "source": [
    "# Creating clean date column\n",
    "df['opening_date_clean'] = df.opening_year + '/' + df.opening_month + '/' + df.opening_day"
   ]
  },
  {
   "cell_type": "code",
   "execution_count": null,
   "id": "04a244dd",
   "metadata": {
    "slideshow": {
     "slide_type": "skip"
    }
   },
   "outputs": [],
   "source": [
    "# Changing to date time format\n",
    "df['opening_date_clean'] = df['opening_date_clean'].apply(lambda x: datetime.strptime(x, '%Y/%m/%d'))"
   ]
  },
  {
   "cell_type": "code",
   "execution_count": null,
   "id": "47511341",
   "metadata": {
    "slideshow": {
     "slide_type": "skip"
    }
   },
   "outputs": [],
   "source": [
    "df"
   ]
  },
  {
   "cell_type": "code",
   "execution_count": null,
   "id": "c40f648f",
   "metadata": {
    "slideshow": {
     "slide_type": "skip"
    }
   },
   "outputs": [],
   "source": [
    "# Creating total socios and total branches columns\n",
    "\n",
    "df['total_socios'] = df.total_branches_and_socios.apply(lambda x: re.findall(r'\\d+', x)[0])\n",
    "\n",
    "df['total_branches'] = df.total_branches_and_socios.apply(lambda x: re.findall(r'\\d+', x)[1])"
   ]
  },
  {
   "cell_type": "code",
   "execution_count": null,
   "id": "349e75f7",
   "metadata": {
    "slideshow": {
     "slide_type": "skip"
    }
   },
   "outputs": [],
   "source": [
    "# Transforming total socios and total branches type to int\n",
    "\n",
    "df['total_socios'] = df.total_socios.apply(lambda x: int(x))\n",
    "df['total_branches'] = df.total_branches.apply(lambda x: int(x))"
   ]
  },
  {
   "cell_type": "code",
   "execution_count": null,
   "id": "1b7f0412",
   "metadata": {
    "scrolled": true,
    "slideshow": {
     "slide_type": "skip"
    }
   },
   "outputs": [],
   "source": [
    "df"
   ]
  },
  {
   "cell_type": "code",
   "execution_count": null,
   "id": "09694881",
   "metadata": {
    "slideshow": {
     "slide_type": "skip"
    }
   },
   "outputs": [],
   "source": [
    "# Uppercasing email provider's column\n",
    "df.email_provider = df.email_provider.apply(lambda x: x.upper())"
   ]
  },
  {
   "cell_type": "code",
   "execution_count": null,
   "id": "1005a5ce",
   "metadata": {
    "scrolled": true,
    "slideshow": {
     "slide_type": "skip"
    }
   },
   "outputs": [],
   "source": [
    "# Creating a new column only with the email provider's company nam\n",
    "\n",
    "df['email_provider_company'] = df.email_provider.apply(lambda x: x.split('.')[0]) "
   ]
  },
  {
   "cell_type": "code",
   "execution_count": null,
   "id": "c6080ae0",
   "metadata": {
    "scrolled": true,
    "slideshow": {
     "slide_type": "skip"
    }
   },
   "outputs": [],
   "source": [
    "df"
   ]
  },
  {
   "cell_type": "code",
   "execution_count": null,
   "id": "66131818",
   "metadata": {
    "slideshow": {
     "slide_type": "skip"
    }
   },
   "outputs": [],
   "source": [
    "# Checking that all cities belong to Paraná\n",
    "df['foo'] = df.city_state.apply(lambda x: x[-4:])\n",
    "\n",
    "df.foo.value_counts()"
   ]
  },
  {
   "cell_type": "code",
   "execution_count": null,
   "id": "9f440b03",
   "metadata": {
    "slideshow": {
     "slide_type": "skip"
    }
   },
   "outputs": [],
   "source": [
    "df.drop(columns='foo', inplace=True)"
   ]
  },
  {
   "cell_type": "code",
   "execution_count": null,
   "id": "e1a33679",
   "metadata": {
    "slideshow": {
     "slide_type": "skip"
    }
   },
   "outputs": [],
   "source": [
    "# Creating city '-PR' since it's redundant info\n",
    "\n",
    "df['city'] = df.city_state.apply(lambda x: x[:-5])"
   ]
  },
  {
   "cell_type": "code",
   "execution_count": null,
   "id": "12cf18d8",
   "metadata": {
    "slideshow": {
     "slide_type": "skip"
    }
   },
   "outputs": [],
   "source": [
    "df.city.value_counts()"
   ]
  },
  {
   "cell_type": "code",
   "execution_count": null,
   "id": "df2babde",
   "metadata": {
    "slideshow": {
     "slide_type": "skip"
    }
   },
   "outputs": [],
   "source": [
    "# Transforming capital_social to integer\n",
    "\n",
    "df['capital_social'] = df['capital_social'].apply(lambda x: int(x))"
   ]
  },
  {
   "cell_type": "markdown",
   "id": "a0e12730",
   "metadata": {
    "slideshow": {
     "slide_type": "skip"
    }
   },
   "source": [
    "# Data Enrichment"
   ]
  },
  {
   "cell_type": "code",
   "execution_count": null,
   "id": "5d9e45c0",
   "metadata": {
    "slideshow": {
     "slide_type": "skip"
    }
   },
   "outputs": [],
   "source": [
    "# Adding counter row\n",
    "\n",
    "df['counter'] = 1"
   ]
  },
  {
   "cell_type": "code",
   "execution_count": null,
   "id": "ac875103",
   "metadata": {
    "slideshow": {
     "slide_type": "skip"
    }
   },
   "outputs": [],
   "source": [
    "# Economic activity grouping\n",
    "\n",
    "df.cnae.value_counts().tail(20)"
   ]
  },
  {
   "cell_type": "code",
   "execution_count": null,
   "id": "39cd5bef",
   "metadata": {
    "slideshow": {
     "slide_type": "skip"
    }
   },
   "outputs": [],
   "source": [
    "df.loc[df.cnae==729401]"
   ]
  },
  {
   "cell_type": "code",
   "execution_count": null,
   "id": "b3690c01",
   "metadata": {
    "slideshow": {
     "slide_type": "skip"
    }
   },
   "outputs": [],
   "source": [
    "len(df.cnae.unique())"
   ]
  },
  {
   "cell_type": "code",
   "execution_count": null,
   "id": "05d7b55e",
   "metadata": {
    "slideshow": {
     "slide_type": "skip"
    }
   },
   "outputs": [],
   "source": [
    "df.cnae.nunique()"
   ]
  },
  {
   "cell_type": "code",
   "execution_count": null,
   "id": "46a6ef68",
   "metadata": {
    "slideshow": {
     "slide_type": "skip"
    }
   },
   "outputs": [],
   "source": [
    "df.cnae_description.nunique()"
   ]
  },
  {
   "cell_type": "code",
   "execution_count": null,
   "id": "0ef0525c",
   "metadata": {
    "slideshow": {
     "slide_type": "skip"
    }
   },
   "outputs": [],
   "source": [
    "# Importing CNAE detailed category data\n",
    "# Source: https://www.ibge.gov.br/estatisticas/metodos-e-classificacoes/classificacoes-e-listas-estatisticas/9078-classificacao-nacional-de-atividades-economicas.html?=&t=resultados\n",
    "cnae_df = pd.read_excel('../data/cnae_detail.xls')"
   ]
  },
  {
   "cell_type": "code",
   "execution_count": null,
   "id": "983e479c",
   "metadata": {
    "slideshow": {
     "slide_type": "skip"
    }
   },
   "outputs": [],
   "source": [
    "# Renaming columns\n",
    "cnae_df.columns=['cnae_section', 'cnae_division', 'cnae_group', 'cnae_class', 'cnae_subclass', 'denomination']"
   ]
  },
  {
   "cell_type": "code",
   "execution_count": null,
   "id": "83c678f2",
   "metadata": {
    "slideshow": {
     "slide_type": "skip"
    }
   },
   "outputs": [],
   "source": [
    "# Keeping only numerical values fore numerical code groupings:\n",
    "for col in cnae_df.columns[1:-1]:    \n",
    "    cnae_df[col] = cnae_df[col].apply(lambda x: \"\".join(re.findall(r'\\d+', str(x))))"
   ]
  },
  {
   "cell_type": "code",
   "execution_count": null,
   "id": "1c94d529",
   "metadata": {
    "slideshow": {
     "slide_type": "skip"
    }
   },
   "outputs": [],
   "source": [
    "cnae_df"
   ]
  },
  {
   "cell_type": "code",
   "execution_count": null,
   "id": "a4f7e884",
   "metadata": {
    "slideshow": {
     "slide_type": "skip"
    }
   },
   "outputs": [],
   "source": [
    "# Examining observation with 6 digit CENAE\n",
    "df.loc[df.cnae==133411]"
   ]
  },
  {
   "cell_type": "code",
   "execution_count": null,
   "id": "bce3d41e",
   "metadata": {
    "slideshow": {
     "slide_type": "skip"
    }
   },
   "outputs": [],
   "source": [
    "# Checking value in CNAE dataframe\n",
    "cnae_df.loc[cnae_df.denomination == 'Cultivo de pêssego']"
   ]
  },
  {
   "cell_type": "code",
   "execution_count": null,
   "id": "84b832f8",
   "metadata": {
    "slideshow": {
     "slide_type": "skip"
    }
   },
   "outputs": [],
   "source": [
    "# Transforming CNAE to string\n",
    "df.cnae = df.cnae.apply(lambda x: str(x))\n",
    "# Creating a column to flag 6 digits CNAE\n",
    "df['foo'] = df.cnae.apply(lambda x: len(x))"
   ]
  },
  {
   "cell_type": "code",
   "execution_count": null,
   "id": "d000cf5f",
   "metadata": {
    "slideshow": {
     "slide_type": "skip"
    }
   },
   "outputs": [],
   "source": [
    "# Checking results\n",
    "df.foo.value_counts()"
   ]
  },
  {
   "cell_type": "code",
   "execution_count": null,
   "id": "0752a596",
   "metadata": {
    "slideshow": {
     "slide_type": "skip"
    }
   },
   "outputs": [],
   "source": [
    "# Adding a 0 at the begining of 6 digit CNAEs\n",
    "df.loc[df.foo==6, 'cnae'] = '0'+ df.cnae"
   ]
  },
  {
   "cell_type": "code",
   "execution_count": null,
   "id": "da74d331",
   "metadata": {
    "slideshow": {
     "slide_type": "skip"
    }
   },
   "outputs": [],
   "source": [
    "# Checking results\n",
    "df['foo'] = df.cnae.apply(lambda x: len(x))\n",
    "df.foo.value_counts()"
   ]
  },
  {
   "cell_type": "code",
   "execution_count": null,
   "id": "db306521",
   "metadata": {
    "slideshow": {
     "slide_type": "skip"
    }
   },
   "outputs": [],
   "source": [
    "# Dropping temporal column\n",
    "df.drop(columns='foo', inplace=True)"
   ]
  },
  {
   "cell_type": "code",
   "execution_count": null,
   "id": "4a654902",
   "metadata": {
    "slideshow": {
     "slide_type": "skip"
    }
   },
   "outputs": [],
   "source": [
    "# Creating CNAE division, group and class columns\n",
    "df['cnae_division'] = df.cnae.apply(lambda x: x[0:2])\n",
    "df['cnae_group'] = df.cnae.apply(lambda x: x[0:3])\n",
    "df['cnae_class'] = df.cnae.apply(lambda x: x[0:5])"
   ]
  },
  {
   "cell_type": "code",
   "execution_count": null,
   "id": "408ea2ce",
   "metadata": {
    "slideshow": {
     "slide_type": "skip"
    }
   },
   "outputs": [],
   "source": [
    "# Creating dictionary mapping CNAE sections to divisions\n",
    "cnae_section_division = {'A': ['01', '02', '03'], \n",
    "                         'B': ['05', '06', '07', '08', '09'], \n",
    "                         'C':list(range(10, 34)), \n",
    "                         'D':[35], \n",
    "                         'E':list(range(36,40)), \n",
    "                         'F':list(range(41,44)), \n",
    "                         'G':list(range(45,48)), \n",
    "                         'H':list(range(49,54)), \n",
    "                         'I':list(range(55,57)), \n",
    "                         'J':list(range(58,64)), \n",
    "                         'K':list(range(64,67)), \n",
    "                         'L':[68], \n",
    "                         'M':list(range(69, 76)), \n",
    "                         'N':list(range(77, 83)), \n",
    "                         'O':[84], \n",
    "                         'P':[85],\n",
    "                         'Q':list(range(86,89)),\n",
    "                         'R': list(range(90,94)), \n",
    "                         'S':list(range(94,97)), \n",
    "                         'T':[97], \n",
    "                         'U':[99]}"
   ]
  },
  {
   "cell_type": "code",
   "execution_count": null,
   "id": "805c7070",
   "metadata": {
    "slideshow": {
     "slide_type": "skip"
    }
   },
   "outputs": [],
   "source": [
    "# Transforming dictionary values from int to strings\n",
    "for i in cnae_section_division:\n",
    "    for j in range(len(cnae_section_division[i])):\n",
    "        cnae_section_division[i][j] = str(cnae_section_division[i][j])"
   ]
  },
  {
   "cell_type": "code",
   "execution_count": null,
   "id": "15b9bd80",
   "metadata": {
    "slideshow": {
     "slide_type": "skip"
    }
   },
   "outputs": [],
   "source": [
    "# Defining function for using the dictionary to map our dataframe's cnae_division to secitons\n",
    "def dict_imputer(to_check, dictionary):\n",
    "    for i in dictionary:\n",
    "        if to_check in dictionary[i]:\n",
    "            return i"
   ]
  },
  {
   "cell_type": "code",
   "execution_count": null,
   "id": "e193f957",
   "metadata": {
    "slideshow": {
     "slide_type": "skip"
    }
   },
   "outputs": [],
   "source": [
    "# Creating our CNAE section column, using the dictionary and function defined above\n",
    "df['cnae_section'] = df.cnae_division.apply(lambda x: dict_imputer(x, cnae_section_division))"
   ]
  },
  {
   "cell_type": "code",
   "execution_count": null,
   "id": "2da28299",
   "metadata": {
    "scrolled": true,
    "slideshow": {
     "slide_type": "skip"
    }
   },
   "outputs": [],
   "source": [
    "# Checking nulls\n",
    "\n",
    "df.isna().sum() / len(df)"
   ]
  },
  {
   "cell_type": "code",
   "execution_count": null,
   "id": "617cef35",
   "metadata": {
    "slideshow": {
     "slide_type": "skip"
    }
   },
   "outputs": [],
   "source": [
    "# Merging dataframes to obtain CNAE descriptions for every CNAE grouping\n",
    "for col in cnae_df.columns[0:-2]:\n",
    "    foo_df = pd.DataFrame(cnae_df[[col, 'denomination']])\n",
    "    df= df.merge(foo_df, how='left', on= col)\n",
    "    df.rename(columns={'denomination': col + '_description'}, inplace=True)"
   ]
  },
  {
   "cell_type": "code",
   "execution_count": null,
   "id": "3478656f",
   "metadata": {
    "scrolled": true,
    "slideshow": {
     "slide_type": "skip"
    }
   },
   "outputs": [],
   "source": [
    "df"
   ]
  },
  {
   "cell_type": "code",
   "execution_count": null,
   "id": "af30b6cf",
   "metadata": {
    "scrolled": true,
    "slideshow": {
     "slide_type": "skip"
    }
   },
   "outputs": [],
   "source": [
    "# Checking nulls\n",
    "\n",
    "df.isna().sum() / len(df)"
   ]
  },
  {
   "cell_type": "code",
   "execution_count": null,
   "id": "e7d96ea6",
   "metadata": {
    "slideshow": {
     "slide_type": "skip"
    }
   },
   "outputs": [],
   "source": [
    "# Renaming cnae_subclass_description column\n",
    "df.rename(columns = {'cnae_description':'cnae_subclass_description'}, inplace=True)"
   ]
  },
  {
   "cell_type": "code",
   "execution_count": null,
   "id": "f8071d8e",
   "metadata": {
    "slideshow": {
     "slide_type": "skip"
    }
   },
   "outputs": [],
   "source": [
    "df.columns"
   ]
  },
  {
   "cell_type": "code",
   "execution_count": null,
   "id": "5aa29445",
   "metadata": {
    "scrolled": true,
    "slideshow": {
     "slide_type": "skip"
    }
   },
   "outputs": [],
   "source": [
    "df.head(1)"
   ]
  },
  {
   "cell_type": "code",
   "execution_count": null,
   "id": "a3a0673e",
   "metadata": {
    "slideshow": {
     "slide_type": "skip"
    }
   },
   "outputs": [],
   "source": [
    "# Adding coordinates data\n",
    "# Source: https://github.com/kelvins/Municipios-Brasileiros\n",
    "muni_df = pd.read_csv('../data/municipios.csv')\n"
   ]
  },
  {
   "cell_type": "code",
   "execution_count": null,
   "id": "0d308664",
   "metadata": {
    "slideshow": {
     "slide_type": "skip"
    }
   },
   "outputs": [],
   "source": [
    "muni_df.head(1)"
   ]
  },
  {
   "cell_type": "code",
   "execution_count": null,
   "id": "1c8ef9e2",
   "metadata": {
    "slideshow": {
     "slide_type": "skip"
    }
   },
   "outputs": [],
   "source": [
    "#Keeping relevant columns\n",
    "muni_df= muni_df[['codigo_ibge', 'latitude', 'longitude']]"
   ]
  },
  {
   "cell_type": "code",
   "execution_count": null,
   "id": "c2a81504",
   "metadata": {
    "slideshow": {
     "slide_type": "skip"
    }
   },
   "outputs": [],
   "source": [
    "#Merging datasets to add coordinates information\n",
    "\n",
    "df = df.merge(muni_df, how='left', left_on='city_code', right_on='codigo_ibge')"
   ]
  },
  {
   "cell_type": "code",
   "execution_count": null,
   "id": "1e576c07",
   "metadata": {
    "slideshow": {
     "slide_type": "skip"
    }
   },
   "outputs": [],
   "source": [
    "# Checking nulls\n",
    "\n",
    "df.isna().sum() / len(df)"
   ]
  },
  {
   "cell_type": "markdown",
   "id": "c0cf5f47",
   "metadata": {
    "slideshow": {
     "slide_type": "skip"
    }
   },
   "source": [
    "# Data Analysis"
   ]
  },
  {
   "cell_type": "markdown",
   "id": "fe9dadce",
   "metadata": {
    "slideshow": {
     "slide_type": "skip"
    }
   },
   "source": [
    "## EDA"
   ]
  },
  {
   "cell_type": "code",
   "execution_count": null,
   "id": "da7c8bc0",
   "metadata": {
    "scrolled": true,
    "slideshow": {
     "slide_type": "skip"
    }
   },
   "outputs": [],
   "source": [
    "# Grouping data by month\n",
    "df_grouped_time = df.groupby([df.opening_year]).agg({'capital_social': ['count', 'sum',  'mean', 'median', 'min', 'max'], \n",
    "                                                           'total_socios': ['mean'],\n",
    "                                                           'total_branches': ['mean']})\n",
    "\n",
    "df_grouped_time.columns = ['openings',\n",
    "                            'capital_social_sum',\n",
    "                            'capital_social_mean',\n",
    "                            'capital_social_median',\n",
    "                            'capital_social_min', \n",
    "                            'capital_social_max',\n",
    "                            'total_socios_mean',\n",
    "                            'total_branches_mean']\n",
    "\n",
    "# Last 50 years overview\n",
    "\n",
    "df_grouped_time.tail(50)"
   ]
  },
  {
   "cell_type": "code",
   "execution_count": null,
   "id": "7220bb0b",
   "metadata": {
    "slideshow": {
     "slide_type": "skip"
    }
   },
   "outputs": [],
   "source": [
    "# Grouping data by city\n",
    "df_grouped_city = df.groupby([df.city]).agg({'capital_social': ['count', 'sum', 'mean', 'median', 'min', 'max'], \n",
    "                                                           'total_socios': ['mean'],\n",
    "                                                           'total_branches': ['mean']})\n",
    "\n",
    "df_grouped_city.columns = ['openings',\n",
    "                           'capital_social_sum',\n",
    "                            'capital_social_mean',\n",
    "                            'capital_social_median',\n",
    "                            'capital_social_min', \n",
    "                            'capital_social_max',\n",
    "                            'total_socios_mean',\n",
    "                            'total_branches_mean']\n",
    "\n",
    "# Top 10 cities \n",
    "df_grouped_city.sort_values(['openings', 'capital_social_sum'], ascending=False, inplace=True)\n",
    "df_grouped_city.head(10)"
   ]
  },
  {
   "cell_type": "code",
   "execution_count": null,
   "id": "44dc7788",
   "metadata": {
    "slideshow": {
     "slide_type": "skip"
    }
   },
   "outputs": [],
   "source": [
    "# Grouping data by zip_code with their cities\n",
    "df_grouped_zip = df.groupby([df.zip_code, df.city]).agg({'capital_social': ['count', 'sum', 'mean', 'median', 'min', 'max'], \n",
    "                                                           'total_socios': ['mean'],\n",
    "                                                           'total_branches': ['mean']})\n",
    "\n",
    "df_grouped_zip.columns = ['openings',\n",
    "                          'capital_social_sum',\n",
    "                            'capital_social_mean',\n",
    "                            'capital_social_median',\n",
    "                            'capital_social_min', \n",
    "                            'capital_social_max',\n",
    "                            'total_socios_mean',\n",
    "                            'total_branches_mean']\n",
    "\n",
    "# Top 10 zip codes with their cities\n",
    "df_grouped_zip.sort_values(['openings', 'capital_social_sum'], ascending=False, inplace=True)\n",
    "df_grouped_zip.head(10)"
   ]
  },
  {
   "cell_type": "code",
   "execution_count": null,
   "id": "96c48d33",
   "metadata": {
    "slideshow": {
     "slide_type": "skip"
    }
   },
   "outputs": [],
   "source": [
    "# Grouping data by city_code with their cities and coordinates\n",
    "df_grouped_cc = df.groupby([df.city_code, df.city, df.latitude, df.longitude]).agg({'capital_social': ['count', 'sum', 'mean', 'median', 'min', 'max'], \n",
    "                                                           'total_socios': ['mean'],\n",
    "                                                           'total_branches': ['mean']})\n",
    "\n",
    "df_grouped_cc.columns = ['openings',\n",
    "                          'capital_social_sum',\n",
    "                            'capital_social_mean',\n",
    "                            'capital_social_median',\n",
    "                            'capital_social_min', \n",
    "                            'capital_social_max',\n",
    "                            'total_socios_mean',\n",
    "                            'total_branches_mean']\n",
    "\n",
    "# Top 10 zip codes with their cities\n",
    "df_grouped_cc.sort_values(['openings', 'capital_social_sum'], ascending=False, inplace=True)\n",
    "df_grouped_cc.head(10)"
   ]
  },
  {
   "cell_type": "code",
   "execution_count": null,
   "id": "a10dee3c",
   "metadata": {
    "slideshow": {
     "slide_type": "skip"
    }
   },
   "outputs": [],
   "source": [
    "# Grouping data by cnae_section\n",
    "df_grouped_cnae_sec = df.groupby([df.cnae_section_description]).agg({'capital_social': ['count', 'sum', 'mean', 'median', 'min', 'max'], \n",
    "                                                           'total_socios': ['mean'],\n",
    "                                                           'total_branches': ['mean']})\n",
    "\n",
    "df_grouped_cnae_sec.columns = ['openings',\n",
    "                               'capital_social_sum',\n",
    "                            'capital_social_mean',\n",
    "                            'capital_social_median',\n",
    "                            'capital_social_min', \n",
    "                            'capital_social_max',\n",
    "                            'total_socios_mean',\n",
    "                            'total_branches_mean']\n",
    "\n",
    "df_grouped_cnae_sec.sort_values(['openings', 'capital_social_sum'], ascending=False, inplace=True)\n",
    "df_grouped_cnae_sec.head(10)"
   ]
  },
  {
   "cell_type": "code",
   "execution_count": null,
   "id": "0adacce2",
   "metadata": {
    "slideshow": {
     "slide_type": "skip"
    }
   },
   "outputs": [],
   "source": [
    "# Grouping data by cnae_division\n",
    "df_grouped_cnae_div = df.groupby([df.cnae_division_description]).agg({'capital_social': ['count', 'sum','mean', 'median', 'min', 'max'], \n",
    "                                                           'total_socios': ['mean'],\n",
    "                                                           'total_branches': ['mean']})\n",
    "\n",
    "df_grouped_cnae_div.columns = ['openings',\n",
    "                               'capital_social_sum',\n",
    "                            'capital_social_mean',\n",
    "                            'capital_social_median',\n",
    "                            'capital_social_min', \n",
    "                            'capital_social_max',\n",
    "                            'total_socios_mean',\n",
    "                            'total_branches_mean']\n",
    "\n",
    "# Top 10 cenae divisions\n",
    "df_grouped_cnae_div.sort_values(['openings', 'capital_social_sum'], ascending=False, inplace=True)\n",
    "df_grouped_cnae_div.head(10)"
   ]
  },
  {
   "cell_type": "code",
   "execution_count": null,
   "id": "3002f176",
   "metadata": {
    "slideshow": {
     "slide_type": "skip"
    }
   },
   "outputs": [],
   "source": [
    "# Grouping data by cnae_group\n",
    "df_grouped_cnae_gr = df.groupby([df.cnae_group_description]).agg({'capital_social': ['count', 'sum', 'mean', 'median', 'min', 'max'], \n",
    "                                                           'total_socios': ['mean'],\n",
    "                                                           'total_branches': ['mean']})\n",
    "\n",
    "df_grouped_cnae_gr.columns = ['openings',\n",
    "                              'capital_social_sum',\n",
    "                            'capital_social_mean',\n",
    "                            'capital_social_median',\n",
    "                            'capital_social_min', \n",
    "                            'capital_social_max',\n",
    "                            'total_socios_mean',\n",
    "                            'total_branches_mean']\n",
    "\n",
    "# Top 10 cenae groups\n",
    "df_grouped_cnae_gr.sort_values(['openings', 'capital_social_sum'], ascending=False, inplace=True)\n",
    "df_grouped_cnae_gr.head(10)"
   ]
  },
  {
   "cell_type": "code",
   "execution_count": null,
   "id": "6cc2570e",
   "metadata": {
    "slideshow": {
     "slide_type": "skip"
    }
   },
   "outputs": [],
   "source": [
    "# Grouping data by cnae_class\n",
    "df_grouped_cnae_cl = df.groupby([df.cnae_class_description]).agg({'capital_social': ['count', 'sum', 'mean', 'median', 'min', 'max'], \n",
    "                                                           'total_socios': ['mean'],\n",
    "                                                           'total_branches': ['mean']})\n",
    "\n",
    "df_grouped_cnae_cl.columns = ['openings',\n",
    "                              'capital_social_sum',\n",
    "                            'capital_social_mean',\n",
    "                            'capital_social_median',\n",
    "                            'capital_social_min', \n",
    "                            'capital_social_max',\n",
    "                            'total_socios_mean',\n",
    "                            'total_branches_mean']\n",
    "\n",
    "# Top 10 classes\n",
    "df_grouped_cnae_cl.sort_values(['openings', 'capital_social_sum'], ascending=False, inplace=True)\n",
    "df_grouped_cnae_cl.head(10)"
   ]
  },
  {
   "cell_type": "code",
   "execution_count": null,
   "id": "2bae87bb",
   "metadata": {
    "scrolled": true,
    "slideshow": {
     "slide_type": "skip"
    }
   },
   "outputs": [],
   "source": [
    "# Grouping data by cnae_sub_class\n",
    "df_grouped_cnae_scl = df.groupby([df.cnae_subclass_description]).agg({'capital_social': ['count', 'sum', 'mean', 'median', 'min', 'max'], \n",
    "                                                           'total_socios': ['mean'],\n",
    "                                                           'total_branches': ['mean']})\n",
    "\n",
    "df_grouped_cnae_scl.columns = ['openings',\n",
    "                              'capital_social_sum',\n",
    "                            'capital_social_mean',\n",
    "                            'capital_social_median',\n",
    "                            'capital_social_min', \n",
    "                            'capital_social_max',\n",
    "                            'total_socios_mean',\n",
    "                            'total_branches_mean']\n",
    "\n",
    "# Top 10 cenae sub classes\n",
    "df_grouped_cnae_scl.sort_values(['openings', 'capital_social_sum'], ascending=False, inplace=True)\n",
    "df_grouped_cnae_scl.head(10)"
   ]
  },
  {
   "cell_type": "code",
   "execution_count": null,
   "id": "2d9b391f",
   "metadata": {
    "slideshow": {
     "slide_type": "skip"
    }
   },
   "outputs": [],
   "source": [
    "# Creating function to plot distributions and boxplots\n",
    "\n",
    "def plot_dist_box(df):\n",
    "    \n",
    "    #Defining figure shape\n",
    "    a = len(df.columns)  \n",
    "    b = 2  \n",
    "    c = 1  \n",
    "\n",
    "    fig = plt.figure(figsize=(20,60))\n",
    "    \n",
    "    #Plotting distributions and boxplots for each variable in the dataframe\n",
    "    for i in df.columns:\n",
    "        plt.subplot(a, b, c)\n",
    "        plt.title('{} (dist), subplot: {}{}{}'.format(i, a, b, c))\n",
    "        plt.xlabel(i)\n",
    "        sns.distplot(df[i])\n",
    "        c = c + 1\n",
    "\n",
    "        plt.subplot(a, b, c)\n",
    "        plt.title('{} (box), subplot: {}{}{}'.format(i, a, b, c))\n",
    "        plt.xlabel(i)\n",
    "        plt.boxplot(x = df[i])\n",
    "        c = c + 1\n",
    "\n",
    "    return fig"
   ]
  },
  {
   "cell_type": "code",
   "execution_count": null,
   "id": "964a5070",
   "metadata": {
    "slideshow": {
     "slide_type": "skip"
    }
   },
   "outputs": [],
   "source": [
    "# Creating function to compute descriptive statistics\n",
    "\n",
    "def descriptive_stats(df):\n",
    "    \n",
    "    # Computing main descriptive stats\n",
    "    df_description = pd.DataFrame(df.describe().round(1))\n",
    "\n",
    "    # Computing median\n",
    "    median = pd.DataFrame(df.median().round(1)).T.rename(index={0:'median'})\n",
    "\n",
    "    # Computing skew\n",
    "    skew = pd.DataFrame(df.skew().round(1)).T.rename(index={0:'skew'})\n",
    "\n",
    "    # Computing one table with all stats\n",
    "    df_description = df_description.append([median, skew])\n",
    "    \n",
    "    return df_description"
   ]
  },
  {
   "cell_type": "code",
   "execution_count": null,
   "id": "7b9de7c3",
   "metadata": {
    "slideshow": {
     "slide_type": "skip"
    }
   },
   "outputs": [],
   "source": [
    "df.columns"
   ]
  },
  {
   "cell_type": "code",
   "execution_count": null,
   "id": "1d3507f8",
   "metadata": {
    "slideshow": {
     "slide_type": "skip"
    }
   },
   "outputs": [],
   "source": [
    "# Defining numerical, categorical, geographical and company ID columns\n",
    "df_num_col = ['capital_social', 'total_socios', 'total_branches']\n",
    "df_cat_col = ['establishment_type', 'cnae_section_description', \n",
    "              'cnae_division_description','cnae_group_description', \n",
    "              'cnae_class_description', 'cnae_subclass_description']\n",
    "df_geo_col = ['city_code', 'zip_code', 'city']\n",
    "df_id_col = ['document_number', 'cnpj_basico', 'razao_social', 'nome_fantasia']"
   ]
  },
  {
   "cell_type": "code",
   "execution_count": null,
   "id": "b1dc3788",
   "metadata": {
    "slideshow": {
     "slide_type": "skip"
    }
   },
   "outputs": [],
   "source": [
    "# Plotting distributions and boxplots of numerical columns\n",
    "\n",
    "plot_dist_box(df[df_num_col])"
   ]
  },
  {
   "cell_type": "code",
   "execution_count": null,
   "id": "a4f94477",
   "metadata": {
    "slideshow": {
     "slide_type": "skip"
    }
   },
   "outputs": [],
   "source": [
    "# Computing descriptive statistics for numerical columns\n",
    "\n",
    "descriptive_stats(df[df_num_col])"
   ]
  },
  {
   "cell_type": "code",
   "execution_count": null,
   "id": "81918802",
   "metadata": {
    "slideshow": {
     "slide_type": "skip"
    }
   },
   "outputs": [],
   "source": [
    "df.columns "
   ]
  },
  {
   "cell_type": "code",
   "execution_count": null,
   "id": "76375654",
   "metadata": {
    "slideshow": {
     "slide_type": "skip"
    }
   },
   "outputs": [],
   "source": [
    "df.establishment_type.value_counts() / len(df.establishment_type)"
   ]
  },
  {
   "cell_type": "code",
   "execution_count": null,
   "id": "3070c3cf",
   "metadata": {
    "slideshow": {
     "slide_type": "skip"
    }
   },
   "outputs": [],
   "source": [
    "df.juri_description.value_counts() / len(df.juri_description)"
   ]
  },
  {
   "cell_type": "markdown",
   "id": "cea8b31c",
   "metadata": {
    "slideshow": {
     "slide_type": "slide"
    }
   },
   "source": [
    "## General Overview (Who are they?)"
   ]
  },
  {
   "cell_type": "markdown",
   "id": "17166f8e",
   "metadata": {
    "slideshow": {
     "slide_type": "fragment"
    }
   },
   "source": [
    "Paraná is one of the 26 states of Brazil, its capital is the city of Curitiba. Other major cities are Londrina, Maringá, and Foz do Iguaçu.\n",
    "\n",
    "\n",
    "It’s home to 5.4% of the Brazilian population (11,5 M), ranking 5th in the country.\n",
    "\n",
    "\n",
    "It has 6.2% of the Brazilian GDP (R $ 452,7 B), ranking 4th behind the states of Rio de Janeiro, São Paulo and Minas Gerais."
   ]
  },
  {
   "cell_type": "markdown",
   "id": "f1dc1b98",
   "metadata": {
    "slideshow": {
     "slide_type": "subslide"
    }
   },
   "source": [
    "According to the data from Receita Federal (1919-2021), Paraná has 1.282.539 registered companies. \n",
    "\n",
    "96% of them are registered as head offices, while the remaining 4% are registered branches."
   ]
  },
  {
   "cell_type": "code",
   "execution_count": null,
   "id": "f4179edc",
   "metadata": {
    "slideshow": {
     "slide_type": "skip"
    }
   },
   "outputs": [],
   "source": [
    "juri_description_df = pd.DataFrame(df.juri_description.value_counts())"
   ]
  },
  {
   "cell_type": "code",
   "execution_count": null,
   "id": "820788a1",
   "metadata": {
    "slideshow": {
     "slide_type": "skip"
    }
   },
   "outputs": [],
   "source": [
    "juri_description_df.reset_index(inplace=True)\n",
    "juri_description_df.columns= ['juri_description', 'count']"
   ]
  },
  {
   "cell_type": "code",
   "execution_count": null,
   "id": "1a94a020",
   "metadata": {
    "slideshow": {
     "slide_type": "skip"
    }
   },
   "outputs": [],
   "source": [
    "juri_description_df"
   ]
  },
  {
   "cell_type": "code",
   "execution_count": null,
   "id": "6300463e",
   "metadata": {
    "scrolled": true,
    "slideshow": {
     "slide_type": "subslide"
    },
    "tags": [
     "hide"
    ]
   },
   "outputs": [],
   "source": [
    "# Create subplots: use 'domain' type for Pie subplot\n",
    "fig = make_subplots(rows=1, cols=2, specs=[[{'type':'domain'}, {'type':'domain'}]])\n",
    "fig.add_trace(go.Pie(labels=df.juri_description, \n",
    "                     values=df.counter, \n",
    "                     name=\"N Companies\"),\n",
    "              1, 1)\n",
    "fig.add_trace(go.Pie(labels=df.juri_description, \n",
    "                     values=df.capital_social, \n",
    "                     name=\"Social Capital\"),\n",
    "              1, 2)\n",
    "\n",
    "# Use `hole` to create a donut-like pie chart\n",
    "fig.update_traces(hole=.4, hoverinfo=\"label+percent\")\n",
    "\n",
    "fig.update_layout(\n",
    "    title_text=\"N Companies and Social Capital per Legal Entity Type\",\n",
    "    # Add annotations in the center of the donut pies.\n",
    "    annotations=[dict(text=\"N Companies\", x=0.13, y=0.5, font_size=14, showarrow=False),\n",
    "                 dict(text=\"Social Capital\", x=0.87, y=0.5, font_size=14, showarrow=False)])\n",
    "fig.update_traces(textposition='inside')\n",
    "fig.update_layout(uniformtext_minsize=12, uniformtext_mode='hide')\n",
    "fig.update_layout(showlegend=False)\n"
   ]
  },
  {
   "cell_type": "markdown",
   "id": "5ce54ab4",
   "metadata": {
    "slideshow": {
     "slide_type": "fragment"
    }
   },
   "source": [
    "Individual companies represent 65% of the registered companies in Paraná.\n",
    "\n",
    "\n",
    "However, 97% of social capital is concentrated by limited liability companies. "
   ]
  },
  {
   "cell_type": "markdown",
   "id": "95878ba9",
   "metadata": {
    "slideshow": {
     "slide_type": "slide"
    }
   },
   "source": [
    "## The number of companies has been growing exponentially."
   ]
  },
  {
   "cell_type": "code",
   "execution_count": null,
   "id": "1e6df3f0",
   "metadata": {
    "slideshow": {
     "slide_type": "skip"
    }
   },
   "outputs": [],
   "source": [
    "df_grouped_time"
   ]
  },
  {
   "cell_type": "code",
   "execution_count": null,
   "id": "e856946a",
   "metadata": {
    "slideshow": {
     "slide_type": "skip"
    }
   },
   "outputs": [],
   "source": [
    "df_grouped_time.reset_index(inplace=True)"
   ]
  },
  {
   "cell_type": "code",
   "execution_count": null,
   "id": "32586d6d",
   "metadata": {
    "slideshow": {
     "slide_type": "fragment"
    },
    "tags": [
     "hide"
    ]
   },
   "outputs": [],
   "source": [
    "# Plotting N of Companies historical evolution\n",
    "fig = px.bar(df_grouped_time.loc[df_grouped_time.opening_year<'2021'], x='opening_year', y=\"openings\")\n",
    "fig.update_layout(\n",
    "    title_text=\"Company Openings\")\n",
    "fig.show()"
   ]
  },
  {
   "cell_type": "markdown",
   "id": "bde2e3d5",
   "metadata": {
    "slideshow": {
     "slide_type": "slide"
    }
   },
   "source": [
    "## Social Capital is also on the rise, but with more volatility. "
   ]
  },
  {
   "cell_type": "code",
   "execution_count": null,
   "id": "099381c7",
   "metadata": {
    "slideshow": {
     "slide_type": "fragment"
    },
    "tags": [
     "hide"
    ]
   },
   "outputs": [],
   "source": [
    "# Plotting Social Capital sum historical evolution\n",
    "fig = px.bar(df_grouped_time.loc[df_grouped_time.opening_year<'2021'], x='opening_year', y='capital_social_sum')\n",
    "fig.update_layout(\n",
    "    title_text=\"Social Capital Sum\")\n",
    "fig.show()"
   ]
  },
  {
   "cell_type": "code",
   "execution_count": null,
   "id": "15c671c9",
   "metadata": {
    "slideshow": {
     "slide_type": "skip"
    },
    "tags": [
     "hide"
    ]
   },
   "outputs": [],
   "source": [
    "# Plotting Social Capital mean historical evolution\n",
    "fig = px.bar(df_grouped_time.loc[df_grouped_time.opening_year<'2021'], x='opening_year', y='capital_social_mean')\n",
    "fig.update_layout(\n",
    "    title_text=\"Social Capital Mean\")\n",
    "fig.show()"
   ]
  },
  {
   "cell_type": "markdown",
   "id": "43b2aa84",
   "metadata": {
    "slideshow": {
     "slide_type": "slide"
    }
   },
   "source": [
    "## Greographic Distribution (Where are they?)"
   ]
  },
  {
   "cell_type": "code",
   "execution_count": null,
   "id": "01f7074b",
   "metadata": {
    "slideshow": {
     "slide_type": "skip"
    }
   },
   "outputs": [],
   "source": [
    "# Reseting index for city code dataframe\n",
    "df_grouped_cc = df_grouped_cc.reset_index()"
   ]
  },
  {
   "cell_type": "code",
   "execution_count": null,
   "id": "a5c720d1",
   "metadata": {
    "slideshow": {
     "slide_type": "skip"
    }
   },
   "outputs": [],
   "source": [
    "#Plotting number of company openings on a map\n",
    "\n",
    "fig = px.scatter_mapbox(df_grouped_cc, lat=\"latitude\", lon=\"longitude\", color=\"openings\", size=\"openings\",\n",
    "                        color_continuous_scale=\"haline\", size_max=60,\n",
    "                        mapbox_style=\"carto-positron\",hover_name='city',labels={\n",
    "                        \"openings\": \"Companies\"\n",
    "                    })\n",
    "fig.update_layout(margin={\"r\":0,\"t\":0,\"l\":0,\"b\":0})\n",
    "fig.update_layout(width=1000, height=525)\n"
   ]
  },
  {
   "cell_type": "code",
   "execution_count": null,
   "id": "7eaa6cca",
   "metadata": {
    "slideshow": {
     "slide_type": "skip"
    }
   },
   "outputs": [],
   "source": [
    "#Plotting companies' capital sum on a map\n",
    "\n",
    "\n",
    "fig = px.scatter_mapbox(df_grouped_cc, lat=\"latitude\", lon=\"longitude\", color=\"capital_social_sum\", size=\"capital_social_sum\",\n",
    "                        color_continuous_scale=\"haline\", size_max=60,\n",
    "                        mapbox_style=\"carto-positron\", hover_name='city',labels={\n",
    "                        \"capital_social_sum\": \"Capital Social\"\n",
    "                    })\n",
    "fig.update_layout(margin={\"r\":0,\"t\":0,\"l\":0,\"b\":0})\n",
    "fig.update_layout(width=1000, height=525)\n"
   ]
  },
  {
   "cell_type": "markdown",
   "id": "571456bb",
   "metadata": {
    "slideshow": {
     "slide_type": "subslide"
    }
   },
   "source": [
    "## N of Companies and their Social Capital in the Map"
   ]
  },
  {
   "cell_type": "code",
   "execution_count": null,
   "id": "ecb84e09",
   "metadata": {
    "slideshow": {
     "slide_type": "fragment"
    },
    "tags": [
     "hide"
    ]
   },
   "outputs": [],
   "source": [
    "#Plotting number of companies (color) and companies' capital sum (size) on a map.\n",
    "\n",
    "fig = px.scatter_mapbox(df_grouped_cc, lat=\"latitude\", lon=\"longitude\", color=\"openings\", size=\"capital_social_sum\",\n",
    "                        color_continuous_scale=\"haline\", size_max=60,\n",
    "                        mapbox_style=\"carto-positron\", hover_name='city',labels={\n",
    "                        \"capital_social_sum\": \"Capital Social\", \"openings\":\"N Companies\"\n",
    "                    })\n",
    "fig.update_layout(margin={\"r\":0,\"t\":0,\"l\":0,\"b\":0})\n",
    "fig.update_layout(width=1000, height=525)\n"
   ]
  },
  {
   "cell_type": "code",
   "execution_count": null,
   "id": "7ac2ff0f",
   "metadata": {
    "slideshow": {
     "slide_type": "skip"
    }
   },
   "outputs": [],
   "source": [
    "# Grouping data by city_code with their cities, coordinates and year\n",
    "df_grouped_cc_year = df.groupby([df.opening_year, df.city_code, df.city, df.latitude, df.longitude]).agg({'capital_social': ['count', 'sum', 'mean', 'median', 'min', 'max'], \n",
    "                                                           'total_socios': ['mean'],\n",
    "                                                           'total_branches': ['mean']})\n",
    "\n",
    "df_grouped_cc_year.columns = ['openings',\n",
    "                          'capital_social_sum',\n",
    "                            'capital_social_mean',\n",
    "                            'capital_social_median',\n",
    "                            'capital_social_min', \n",
    "                            'capital_social_max',\n",
    "                            'total_socios_mean',\n",
    "                            'total_branches_mean']\n",
    "\n",
    "df_grouped_cc_year.reset_index(inplace=True)"
   ]
  },
  {
   "cell_type": "markdown",
   "id": "29192aec",
   "metadata": {
    "slideshow": {
     "slide_type": "subslide"
    }
   },
   "source": [
    "## What about the last two decades?"
   ]
  },
  {
   "cell_type": "code",
   "execution_count": null,
   "id": "53a5ea0a",
   "metadata": {
    "slideshow": {
     "slide_type": "fragment"
    },
    "tags": [
     "hide"
    ]
   },
   "outputs": [],
   "source": [
    "#Plotting number of companies (color) and companies' capital sum (size) on a map from 2010 till 2021\n",
    "\n",
    "fig = px.scatter_mapbox(df_grouped_cc_year.loc[(df_grouped_cc_year.opening_year>='2010')&(df_grouped_cc_year.opening_year<='2022')],\n",
    "                        lat=\"latitude\", lon=\"longitude\", color=\"openings\", size=\"capital_social_sum\",\n",
    "                        color_continuous_scale=\"haline\", size_max=60,\n",
    "                        mapbox_style=\"carto-positron\", hover_name='city', labels={\n",
    "                        \"capital_social_sum\": \"Capital Social\", \"openings\":\"N Cohidempanies\"\n",
    "                    })\n",
    "fig.update_layout(margin={\"r\":0,\"t\":0,\"l\":0,\"b\":0})\n",
    "fig.update_layout(width=1000, height=525)\n"
   ]
  },
  {
   "cell_type": "code",
   "execution_count": null,
   "id": "2e6709c2",
   "metadata": {
    "slideshow": {
     "slide_type": "skip"
    }
   },
   "outputs": [],
   "source": [
    "# Plotting Social Capital historical evolution in the main cities.\n"
   ]
  },
  {
   "cell_type": "code",
   "execution_count": null,
   "id": "a4272e67",
   "metadata": {
    "slideshow": {
     "slide_type": "skip"
    }
   },
   "outputs": [],
   "source": [
    "# Selecting top 6 cities by Social Capital sum\n",
    "top_6_cities = list(df_grouped_city[:6].index)"
   ]
  },
  {
   "cell_type": "code",
   "execution_count": null,
   "id": "b2593530",
   "metadata": {
    "slideshow": {
     "slide_type": "skip"
    }
   },
   "outputs": [],
   "source": [
    "# Grouping data by time and city with only the top 6 cities\n",
    "df_grouped_time_6cities = df.loc[df.city.isin(top_6_cities)==True].groupby([df.opening_year, df.city]).agg({'capital_social': ['count', 'sum',  'mean', 'median', 'min', 'max'], \n",
    "                                                           'total_socios': ['mean'],\n",
    "                                                           'total_branches': ['mean']})\n",
    "\n",
    "df_grouped_time_6cities.columns = ['openings',\n",
    "                            'capital_social_sum',\n",
    "                            'capital_social_mean',\n",
    "                            'capital_social_median',\n",
    "                            'capital_social_min', \n",
    "                            'capital_social_max',\n",
    "                            'total_socios_mean',\n",
    "                            'total_branches_mean']"
   ]
  },
  {
   "cell_type": "code",
   "execution_count": null,
   "id": "8805fc05",
   "metadata": {
    "slideshow": {
     "slide_type": "skip"
    }
   },
   "outputs": [],
   "source": [
    "# Checking cities\n",
    "df_grouped_time_6cities = df_grouped_time_6cities.reset_index()\n",
    "df_grouped_time_6cities.reset_index().city.value_counts()"
   ]
  },
  {
   "cell_type": "code",
   "execution_count": null,
   "id": "7e79302e",
   "metadata": {
    "slideshow": {
     "slide_type": "skip"
    }
   },
   "outputs": [],
   "source": [
    "# Examine data\n",
    "df_grouped_time_6cities"
   ]
  },
  {
   "cell_type": "code",
   "execution_count": null,
   "id": "495d78c4",
   "metadata": {
    "slideshow": {
     "slide_type": "skip"
    }
   },
   "outputs": [],
   "source": [
    "# Computing openings per city per year\n",
    "openings_year_6cities = df_grouped_time_6cities.pivot_table(values='openings', index='opening_year', \n",
    "                                                      columns='city', aggfunc='sum')"
   ]
  },
  {
   "cell_type": "markdown",
   "id": "5eb84c4b",
   "metadata": {
    "slideshow": {
     "slide_type": "subslide"
    }
   },
   "source": [
    "## Company Openings Evolution in the Main Cities"
   ]
  },
  {
   "cell_type": "code",
   "execution_count": null,
   "id": "1a7c1fbf",
   "metadata": {
    "scrolled": true,
    "slideshow": {
     "slide_type": "fragment"
    },
    "tags": [
     "hide"
    ]
   },
   "outputs": [],
   "source": [
    "# Plotting openings per city per year\n",
    "fig = px.area(openings_year_6cities.loc[openings_year_6cities.index<'2021'], \n",
    "              facet_col=\"city\", facet_col_wrap=2)\n",
    "fig.show()"
   ]
  },
  {
   "cell_type": "code",
   "execution_count": null,
   "id": "cc9bc040",
   "metadata": {
    "slideshow": {
     "slide_type": "skip"
    }
   },
   "outputs": [],
   "source": [
    "# Computing capital sum per city per year\n",
    "capital_sum_year_6cities = df_grouped_time_6cities.pivot_table(values='capital_social_sum', index='opening_year', columns='city', aggfunc='sum')"
   ]
  },
  {
   "cell_type": "markdown",
   "id": "85895529",
   "metadata": {
    "slideshow": {
     "slide_type": "subslide"
    }
   },
   "source": [
    "## Social Capital Sum Evolution in the Main Cities"
   ]
  },
  {
   "cell_type": "code",
   "execution_count": null,
   "id": "caba8987",
   "metadata": {
    "slideshow": {
     "slide_type": "fragment"
    },
    "tags": [
     "hide"
    ]
   },
   "outputs": [],
   "source": [
    "# Plotting capital sum per city per year\n",
    "fig = px.area(capital_sum_year_6cities.loc[capital_sum_year_6cities.index<'2021'], facet_col=\"city\", facet_col_wrap=2)\n",
    "fig.show()"
   ]
  },
  {
   "cell_type": "code",
   "execution_count": null,
   "id": "146208af",
   "metadata": {
    "slideshow": {
     "slide_type": "skip"
    }
   },
   "outputs": [],
   "source": [
    "# Computing capital mean per city per year\n",
    "capital_mean_year_6cities = df_grouped_time_6cities.pivot_table(values='capital_social_sum', index='opening_year', columns='city', aggfunc='mean')"
   ]
  },
  {
   "cell_type": "markdown",
   "id": "4d186a62",
   "metadata": {
    "slideshow": {
     "slide_type": "subslide"
    }
   },
   "source": [
    "## Social Capital Mean Evolution in the Main Cities"
   ]
  },
  {
   "cell_type": "code",
   "execution_count": null,
   "id": "f6811704",
   "metadata": {
    "slideshow": {
     "slide_type": "fragment"
    },
    "tags": [
     "hide"
    ]
   },
   "outputs": [],
   "source": [
    "# Plotting capital mean per city per year\n",
    "fig = px.area(capital_mean_year_6cities.loc[capital_mean_year_6cities.index<'2021'], facet_col=\"city\", facet_col_wrap=2)\n",
    "fig.show()"
   ]
  },
  {
   "cell_type": "code",
   "execution_count": null,
   "id": "f7538815",
   "metadata": {
    "slideshow": {
     "slide_type": "skip"
    }
   },
   "outputs": [],
   "source": [
    "# Grouping data by time and city with every city\n",
    "df_grouped_time_city = df.groupby([df.opening_year, df.city]).agg({'capital_social': ['count', 'sum',  'mean', 'median', 'min', 'max'], \n",
    "                                                           'total_socios': ['mean'],\n",
    "                                                           'total_branches': ['mean']})\n",
    "\n",
    "df_grouped_time_city.columns = ['openings',\n",
    "                            'capital_social_sum',\n",
    "                            'capital_social_mean',\n",
    "                            'capital_social_median',\n",
    "                            'capital_social_min', \n",
    "                            'capital_social_max',\n",
    "                            'total_socios_mean',\n",
    "                            'total_branches_mean']"
   ]
  },
  {
   "cell_type": "code",
   "execution_count": null,
   "id": "b067f737",
   "metadata": {
    "slideshow": {
     "slide_type": "skip"
    }
   },
   "outputs": [],
   "source": [
    "# Checking cities\n",
    "df_grouped_time_city = df_grouped_time_city.reset_index()\n",
    "df_grouped_time_city.reset_index().city.value_counts()"
   ]
  },
  {
   "cell_type": "code",
   "execution_count": null,
   "id": "5606f65e",
   "metadata": {
    "slideshow": {
     "slide_type": "skip"
    }
   },
   "outputs": [],
   "source": [
    "# Examine data\n",
    "df_grouped_time_city"
   ]
  },
  {
   "cell_type": "code",
   "execution_count": null,
   "id": "ee134102",
   "metadata": {
    "slideshow": {
     "slide_type": "skip"
    }
   },
   "outputs": [],
   "source": [
    "# Computing capital sum per city in 2000 and 2021\n",
    "capital_sum_year_city = df_grouped_time_city.pivot_table(values='capital_social_sum', index='opening_year', \n",
    "                                                         columns='city', aggfunc='sum')"
   ]
  },
  {
   "cell_type": "code",
   "execution_count": null,
   "id": "baf4bf23",
   "metadata": {
    "slideshow": {
     "slide_type": "skip"
    }
   },
   "outputs": [],
   "source": [
    "# Grouping data by city and year\n",
    "\n",
    "# Grouping data by city and year\n",
    "df_grouped_city_year = df.groupby([df.city, df.opening_year]).agg({'capital_social': ['count', 'sum', 'mean', 'median', 'min', 'max'], \n",
    "                                                           'total_socios': ['mean'],\n",
    "                                                           'total_branches': ['mean']})\n",
    "\n",
    "df_grouped_city_year.columns = ['openings',\n",
    "                           'capital_social_sum',\n",
    "                            'capital_social_mean',\n",
    "                            'capital_social_median',\n",
    "                            'capital_social_min', \n",
    "                            'capital_social_max',\n",
    "                            'total_socios_mean',\n",
    "                            'total_branches_mean']\n",
    "\n",
    "df_grouped_city_year.reset_index(inplace=True)\n"
   ]
  },
  {
   "cell_type": "code",
   "execution_count": null,
   "id": "78d21711",
   "metadata": {
    "slideshow": {
     "slide_type": "skip"
    }
   },
   "outputs": [],
   "source": [
    "df_grouped_city_year"
   ]
  },
  {
   "cell_type": "markdown",
   "id": "e467a536",
   "metadata": {
    "slideshow": {
     "slide_type": "subslide"
    }
   },
   "source": [
    "## Company openings per City in the last two decades"
   ]
  },
  {
   "cell_type": "code",
   "execution_count": null,
   "id": "4b727db8",
   "metadata": {
    "slideshow": {
     "slide_type": "fragment"
    },
    "tags": [
     "hide"
    ]
   },
   "outputs": [],
   "source": [
    "# Create subplots: use 'domain' type for Pie subplot\n",
    "fig = make_subplots(rows=1, cols=2, specs=[[{'type':'domain'}, {'type':'domain'}]])\n",
    "fig.add_trace(go.Pie(labels=df_grouped_city_year.loc[(df_grouped_city_year.opening_year>='1990')&(df_grouped_city_year.opening_year<='1999')]['city'], \n",
    "                     values=df_grouped_city_year.loc[(df_grouped_city_year.opening_year>='1990')&(df_grouped_city_year.opening_year<='1999')]['openings'], \n",
    "                     name=\"90's\"),\n",
    "              1, 1)\n",
    "fig.add_trace(go.Pie(labels=df_grouped_city_year.loc[(df_grouped_city_year.opening_year>='2010')&(df_grouped_city_year.opening_year<='2019')]['city'], \n",
    "                     values=df_grouped_city_year.loc[(df_grouped_city_year.opening_year>='2010')&(df_grouped_city_year.opening_year<='2019')]['openings'], \n",
    "                     name=\"10's\"),\n",
    "              1, 2)\n",
    "\n",
    "# Use `hole` to create a donut-like pie chart\n",
    "fig.update_traces(hole=.4, hoverinfo=\"label+percent\")\n",
    "\n",
    "fig.update_layout(\n",
    "    title_text=\"Company Openings per City 90's vs 10's\",\n",
    "    # Add annotations in the center of the donut pies.\n",
    "    annotations=[dict(text=\"90's\", x=0.18, y=0.5, font_size=20, showarrow=False),\n",
    "                 dict(text=\"10's\", x=0.82, y=0.5, font_size=20, showarrow=False)])\n",
    "fig.update_traces(textposition='inside')\n",
    "fig.update_layout(uniformtext_minsize=12, uniformtext_mode='hide')\n",
    "fig.show()"
   ]
  },
  {
   "cell_type": "markdown",
   "id": "50beabba",
   "metadata": {
    "slideshow": {
     "slide_type": "subslide"
    }
   },
   "source": [
    "## Social Capital Sum per City in the last two decades"
   ]
  },
  {
   "cell_type": "code",
   "execution_count": null,
   "id": "919793b3",
   "metadata": {
    "scrolled": false,
    "slideshow": {
     "slide_type": "fragment"
    },
    "tags": [
     "hide"
    ]
   },
   "outputs": [],
   "source": [
    "# Create subplots: use 'domain' type for Pie subplot\n",
    "fig = make_subplots(rows=1, cols=2, specs=[[{'type':'domain'}, {'type':'domain'}]])\n",
    "fig.add_trace(go.Pie(labels=df_grouped_city_year.loc[(df_grouped_city_year.opening_year>='1990')&(df_grouped_city_year.opening_year<='1999')]['city'], \n",
    "                     values=df_grouped_city_year.loc[(df_grouped_city_year.opening_year>='1990')&(df_grouped_city_year.opening_year<='1999')]['capital_social_sum'], \n",
    "                     name=\"90's\"),\n",
    "              1, 1)\n",
    "fig.add_trace(go.Pie(labels=df_grouped_city_year.loc[(df_grouped_city_year.opening_year>='2010')&(df_grouped_city_year.opening_year<='2019')]['city'], \n",
    "                     values=df_grouped_city_year.loc[(df_grouped_city_year.opening_year>='2010')&(df_grouped_city_year.opening_year<='2019')]['capital_social_sum'], \n",
    "                     name=\"10's\"),\n",
    "              1, 2)\n",
    "\n",
    "# Use `hole` to create a donut-like pie chart\n",
    "fig.update_traces(hole=.4, hoverinfo=\"label+percent\")\n",
    "\n",
    "fig.update_layout(\n",
    "    title_text=\"Openings' Capital Sum per City 90's vs 10's\",\n",
    "    # Add annotations in the center of the donut pies.\n",
    "    annotations=[dict(text=\"90's\", x=0.18, y=0.5, font_size=20, showarrow=False),\n",
    "                 dict(text=\"10's\", x=0.82, y=0.5, font_size=20, showarrow=False)])\n",
    "fig.update_traces(textposition='inside')\n",
    "fig.update_layout(uniformtext_minsize=12, uniformtext_mode='hide')\n",
    "fig.show()"
   ]
  },
  {
   "cell_type": "markdown",
   "id": "1538165f",
   "metadata": {
    "slideshow": {
     "slide_type": "subslide"
    }
   },
   "source": [
    "Curitiba captures the majority of the openings and the social capital.\n",
    "\n",
    "\n",
    "However, the rest of the cities are catching up."
   ]
  },
  {
   "cell_type": "markdown",
   "id": "2da69557",
   "metadata": {
    "slideshow": {
     "slide_type": "slide"
    }
   },
   "source": [
    "## Economic Activity (What do they do?)"
   ]
  },
  {
   "cell_type": "code",
   "execution_count": null,
   "id": "57e75f08",
   "metadata": {
    "slideshow": {
     "slide_type": "skip"
    }
   },
   "outputs": [],
   "source": [
    "# Plotting plotly pie charts\n",
    "cnae_groupings = [df_grouped_cnae_sec,\n",
    "                  df_grouped_cnae_div, \n",
    "                  df_grouped_cnae_gr, \n",
    "                  df_grouped_cnae_cl, \n",
    "                  df_grouped_cnae_scl]\n",
    "\n",
    "# N of Companies per CNAE section\n",
    "\n",
    "fig = px.pie(cnae_groupings[0].reset_index(), values='openings', \n",
    "             hover_name= cnae_groupings[0].reset_index().columns[0], \n",
    "             title='N of Companies per Economic Activity')\n",
    "fig.update_traces(textposition='inside')\n",
    "fig.update_layout(uniformtext_minsize=12, uniformtext_mode='hide')\n",
    "fig.show()\n"
   ]
  },
  {
   "cell_type": "code",
   "execution_count": null,
   "id": "be5267a9",
   "metadata": {
    "slideshow": {
     "slide_type": "skip"
    }
   },
   "outputs": [],
   "source": [
    "# Social Capital Sum per CNAE section\n",
    "\n",
    "fig = px.pie(cnae_groupings[0].reset_index(), values='capital_social_sum', \n",
    "             hover_name= cnae_groupings[0].reset_index().columns[0], \n",
    "             title='Social Capital per Economic Activity')\n",
    "fig.update_traces(textposition='inside')\n",
    "fig.update_layout(uniformtext_minsize=12, uniformtext_mode='hide')\n",
    "fig.show()\n"
   ]
  },
  {
   "cell_type": "code",
   "execution_count": null,
   "id": "5a51efbe",
   "metadata": {
    "slideshow": {
     "slide_type": "skip"
    }
   },
   "outputs": [],
   "source": [
    "# N of Companies per CNAE division\n",
    "\n",
    "fig = px.pie(cnae_groupings[1].reset_index(), values='openings', \n",
    "             hover_name= cnae_groupings[1].reset_index().columns[0],\n",
    "             title='N of Companies per Economic Activity')\n",
    "fig.update_traces(textposition='inside')\n",
    "fig.update_layout(uniformtext_minsize=12, uniformtext_mode='hide')\n",
    "fig.show()\n"
   ]
  },
  {
   "cell_type": "code",
   "execution_count": null,
   "id": "2a9bb538",
   "metadata": {
    "slideshow": {
     "slide_type": "skip"
    }
   },
   "outputs": [],
   "source": [
    "# Social Capital Sum per CNAE division\n",
    "\n",
    "fig = px.pie(cnae_groupings[1].reset_index(), values='capital_social_sum', \n",
    "             hover_name= cnae_groupings[1].reset_index().columns[0], \n",
    "             title='Social Capital per Economic Activity')\n",
    "fig.update_traces(textposition='inside')\n",
    "fig.update_layout(uniformtext_minsize=12, uniformtext_mode='hide')\n",
    "fig.show()\n"
   ]
  },
  {
   "cell_type": "code",
   "execution_count": null,
   "id": "54a553f0",
   "metadata": {
    "slideshow": {
     "slide_type": "skip"
    }
   },
   "outputs": [],
   "source": [
    "# N of Companies per CNAE group\n",
    "\n",
    "fig = px.pie(cnae_groupings[2].reset_index(), values='openings', \n",
    "             hover_name= cnae_groupings[2].reset_index().columns[0],\n",
    "             title='N of Companies per Economic Activity')\n",
    "fig.update_traces(textposition='inside')\n",
    "fig.update_layout(uniformtext_minsize=12, uniformtext_mode='hide')\n",
    "fig.show()\n"
   ]
  },
  {
   "cell_type": "code",
   "execution_count": null,
   "id": "b38fd292",
   "metadata": {
    "slideshow": {
     "slide_type": "skip"
    }
   },
   "outputs": [],
   "source": [
    "# Social Capital Sum per CNAE group\n",
    "\n",
    "fig = px.pie(cnae_groupings[2].reset_index(), values='capital_social_sum', \n",
    "             hover_name= cnae_groupings[2].reset_index().columns[0], \n",
    "             title='Social Capital per Economic Activity')\n",
    "fig.update_traces(textposition='inside')\n",
    "fig.update_layout(uniformtext_minsize=12, uniformtext_mode='hide')\n",
    "fig.show()\n"
   ]
  },
  {
   "cell_type": "code",
   "execution_count": null,
   "id": "4d9643b2",
   "metadata": {
    "slideshow": {
     "slide_type": "fragment"
    },
    "tags": [
     "hide"
    ]
   },
   "outputs": [],
   "source": [
    "# N of Companies per CNAE class\n",
    "\n",
    "fig = px.pie(cnae_groupings[3].reset_index(), values='openings', \n",
    "             hover_name= cnae_groupings[3].reset_index().columns[0],\n",
    "             title='N of Companies per Economic Activity')\n",
    "fig.update_traces(textposition='inside')\n",
    "fig.update_layout(uniformtext_minsize=12, uniformtext_mode='hide')\n",
    "fig.show()\n"
   ]
  },
  {
   "cell_type": "code",
   "execution_count": null,
   "id": "9ce0d6d2",
   "metadata": {
    "slideshow": {
     "slide_type": "subslide"
    },
    "tags": [
     "hide"
    ]
   },
   "outputs": [],
   "source": [
    "# Social Capital Sum per CNAE class\n",
    "\n",
    "fig = px.pie(cnae_groupings[3].reset_index(), values='capital_social_sum', \n",
    "             hover_name= cnae_groupings[3].reset_index().columns[0], \n",
    "             title='Social Capital per Economic Activity')\n",
    "fig.update_traces(textposition='inside')\n",
    "fig.update_layout(uniformtext_minsize=12, uniformtext_mode='hide')\n",
    "fig.show()\n"
   ]
  },
  {
   "cell_type": "code",
   "execution_count": null,
   "id": "2f879488",
   "metadata": {
    "slideshow": {
     "slide_type": "skip"
    }
   },
   "outputs": [],
   "source": [
    "# N of Companies per CNAE subclass\n",
    "\n",
    "fig = px.pie(cnae_groupings[4].reset_index(), values='openings', \n",
    "             hover_name= cnae_groupings[4].reset_index().columns[0],\n",
    "             title='N of Companies per Economic Activity')\n",
    "fig.update_traces(textposition='inside')\n",
    "fig.update_layout(uniformtext_minsize=12, uniformtext_mode='hide')\n",
    "fig.show()\n"
   ]
  },
  {
   "cell_type": "code",
   "execution_count": null,
   "id": "50a2f6e3",
   "metadata": {
    "slideshow": {
     "slide_type": "skip"
    }
   },
   "outputs": [],
   "source": [
    "# Social Capital Sum per CNAE subclass\n",
    "\n",
    "fig = px.pie(cnae_groupings[4].reset_index(), values='capital_social_sum', \n",
    "             hover_name= cnae_groupings[4].reset_index().columns[0], \n",
    "             title='Social Capital per Economic Activity')\n",
    "fig.update_traces(textposition='inside')\n",
    "fig.update_layout(uniformtext_minsize=12, uniformtext_mode='hide')\n",
    "fig.show()\n"
   ]
  },
  {
   "cell_type": "markdown",
   "id": "f84d78da",
   "metadata": {
    "slideshow": {
     "slide_type": "fragment"
    }
   },
   "source": [
    "Businesses are spred within a wide variety of activities.\n",
    "\n",
    "\n",
    "Capital is slightly more concentrated within activities, although quite diversified."
   ]
  },
  {
   "cell_type": "code",
   "execution_count": null,
   "id": "e75c18d0",
   "metadata": {
    "slideshow": {
     "slide_type": "skip"
    }
   },
   "outputs": [],
   "source": [
    "cnae_groupings[3].head(6)"
   ]
  },
  {
   "cell_type": "code",
   "execution_count": null,
   "id": "15ba2dd2",
   "metadata": {
    "slideshow": {
     "slide_type": "skip"
    }
   },
   "outputs": [],
   "source": [
    "cnae_groupings[3].sort_values('capital_social_sum', ascending=False, inplace=True)"
   ]
  },
  {
   "cell_type": "code",
   "execution_count": null,
   "id": "25bca46b",
   "metadata": {
    "slideshow": {
     "slide_type": "skip"
    }
   },
   "outputs": [],
   "source": [
    "# Selecting top 6 CNAE Classes by Social Capital sum\n",
    "top_6_cnae_c = list(cnae_groupings[3][:6].index)"
   ]
  },
  {
   "cell_type": "code",
   "execution_count": null,
   "id": "797f4c9e",
   "metadata": {
    "slideshow": {
     "slide_type": "skip"
    }
   },
   "outputs": [],
   "source": [
    "top_6_cnae_c"
   ]
  },
  {
   "cell_type": "code",
   "execution_count": null,
   "id": "a20c89c0",
   "metadata": {
    "slideshow": {
     "slide_type": "skip"
    }
   },
   "outputs": [],
   "source": [
    "# Grouping data by time and city with only the top 6 CNAE classes\n",
    "df_grouped_time_6cnaec = df.loc[df.cnae_class_description.isin(top_6_cnae_c)==True].groupby([df.opening_year, df.cnae_class_description]).agg({'capital_social': ['count', 'sum',  'mean', 'median', 'min', 'max'], \n",
    "                                                           'total_socios': ['mean'],\n",
    "                                                           'total_branches': ['mean']})\n",
    "\n",
    "df_grouped_time_6cnaec.columns = ['openings',\n",
    "                            'capital_social_sum',\n",
    "                            'capital_social_mean',\n",
    "                            'capital_social_median',\n",
    "                            'capital_social_min', \n",
    "                            'capital_social_max',\n",
    "                            'total_socios_mean',\n",
    "                            'total_branches_mean']"
   ]
  },
  {
   "cell_type": "code",
   "execution_count": null,
   "id": "c2875db8",
   "metadata": {
    "slideshow": {
     "slide_type": "skip"
    }
   },
   "outputs": [],
   "source": [
    "df_grouped_time_6cnaec"
   ]
  },
  {
   "cell_type": "code",
   "execution_count": null,
   "id": "e0d62258",
   "metadata": {
    "slideshow": {
     "slide_type": "skip"
    }
   },
   "outputs": [],
   "source": [
    "# Checking CNAE classes\n",
    "df_grouped_time_6cnaec = df_grouped_time_6cnaec.reset_index()\n",
    "df_grouped_time_6cnaec.reset_index().cnae_class_description.value_counts()"
   ]
  },
  {
   "cell_type": "code",
   "execution_count": null,
   "id": "7d68c307",
   "metadata": {
    "slideshow": {
     "slide_type": "skip"
    }
   },
   "outputs": [],
   "source": [
    "# Examine data\n",
    "df_grouped_time_6cnaec"
   ]
  },
  {
   "cell_type": "code",
   "execution_count": null,
   "id": "87333ccb",
   "metadata": {
    "slideshow": {
     "slide_type": "skip"
    }
   },
   "outputs": [],
   "source": [
    "# Computing openings per CNAE class per year\n",
    "openings_year_6cnaec = df_grouped_time_6cnaec.pivot_table(values='openings', index='opening_year', \n",
    "                                                      columns='cnae_class_description', aggfunc='sum')"
   ]
  },
  {
   "cell_type": "markdown",
   "id": "580d7a12",
   "metadata": {
    "slideshow": {
     "slide_type": "subslide"
    }
   },
   "source": [
    "## Openings evolution per economic activity"
   ]
  },
  {
   "cell_type": "code",
   "execution_count": null,
   "id": "9b176db5",
   "metadata": {
    "scrolled": true,
    "slideshow": {
     "slide_type": "fragment"
    },
    "tags": [
     "hide"
    ]
   },
   "outputs": [],
   "source": [
    "# Plotting openings per CNAE class per year\n",
    "fig = px.area(openings_year_6cnaec.loc[openings_year_6cnaec.index<'2021'],\n",
    "              facet_col=\"cnae_class_description\", facet_col_wrap=2)\n",
    "fig.update_layout(showlegend=False)\n",
    "# subplot titles\n",
    "for anno in fig['layout']['annotations']:\n",
    "    anno['text']=''\n",
    "\n",
    "fig.show()"
   ]
  },
  {
   "cell_type": "code",
   "execution_count": null,
   "id": "fd83973e",
   "metadata": {
    "slideshow": {
     "slide_type": "skip"
    }
   },
   "outputs": [],
   "source": [
    "# Computing capital sum per CNAE class per year\n",
    "capital_sum_year_6cnaec = df_grouped_time_6cnaec.pivot_table(values='capital_social_sum', index='opening_year', columns='cnae_class_description', aggfunc='sum')"
   ]
  },
  {
   "cell_type": "markdown",
   "id": "0fe22b9e",
   "metadata": {
    "slideshow": {
     "slide_type": "subslide"
    }
   },
   "source": [
    "## Capital Sum per Economic Activity"
   ]
  },
  {
   "cell_type": "code",
   "execution_count": null,
   "id": "05e68f9e",
   "metadata": {
    "slideshow": {
     "slide_type": "fragment"
    },
    "tags": [
     "hide"
    ]
   },
   "outputs": [],
   "source": [
    "# Plotting capital sum per CNAE class per year\n",
    "fig = px.area(capital_sum_year_6cnaec.loc[capital_sum_year_6cnaec.index<'2021'], \n",
    "              facet_col=\"cnae_class_description\", facet_col_wrap=2)\n",
    "fig.update_layout(showlegend=False)\n",
    "# subplot titles\n",
    "for anno in fig['layout']['annotations']:\n",
    "    anno['text']=''\n",
    "\n",
    "fig.show()"
   ]
  },
  {
   "cell_type": "code",
   "execution_count": null,
   "id": "bc45e3c3",
   "metadata": {
    "slideshow": {
     "slide_type": "skip"
    }
   },
   "outputs": [],
   "source": [
    "# Computing capital mean per CNAE class per year\n",
    "capital_mean_year_6cnaec = df_grouped_time_6cnaec.pivot_table(values='capital_social_sum', index='opening_year', columns='cnae_class_description', aggfunc='mean')"
   ]
  },
  {
   "cell_type": "markdown",
   "id": "25ad10d5",
   "metadata": {
    "slideshow": {
     "slide_type": "subslide"
    }
   },
   "source": [
    "## Capital Mean per Economic Activity"
   ]
  },
  {
   "cell_type": "code",
   "execution_count": null,
   "id": "33ecf0fd",
   "metadata": {
    "slideshow": {
     "slide_type": "fragment"
    },
    "tags": [
     "hide"
    ]
   },
   "outputs": [],
   "source": [
    "# Plotting capital mean per CNAE class per year\n",
    "fig = px.area(capital_mean_year_6cnaec,\n",
    "              facet_col=\"cnae_class_description\", facet_col_wrap=2)\n",
    "fig.update_layout(showlegend=False)\n",
    "# subplot titles\n",
    "for anno in fig['layout']['annotations']:\n",
    "    anno['text']=''\n",
    "\n",
    "fig.show()"
   ]
  },
  {
   "cell_type": "code",
   "execution_count": null,
   "id": "3a4139af",
   "metadata": {
    "slideshow": {
     "slide_type": "skip"
    }
   },
   "outputs": [],
   "source": [
    "# Grouping data by time and CNAE class with every CNAE class\n",
    "df_grouped_time_cnaec = df.groupby([df.opening_year, df.cnae_class_description]).agg({'capital_social': ['count', 'sum',  'mean', 'median', 'min', 'max'], \n",
    "                                                           'total_socios': ['mean'],\n",
    "                                                           'total_branches': ['mean']})\n",
    "\n",
    "df_grouped_time_cnaec.columns = ['openings',\n",
    "                            'capital_social_sum',\n",
    "                            'capital_social_mean',\n",
    "                            'capital_social_median',\n",
    "                            'capital_social_min', \n",
    "                            'capital_social_max',\n",
    "                            'total_socios_mean',\n",
    "                            'total_branches_mean']"
   ]
  },
  {
   "cell_type": "code",
   "execution_count": null,
   "id": "29823f64",
   "metadata": {
    "slideshow": {
     "slide_type": "skip"
    }
   },
   "outputs": [],
   "source": [
    "# Checking CNAE classes\n",
    "df_grouped_time_cnaec = df_grouped_time_cnaec.reset_index()\n",
    "df_grouped_time_cnaec.reset_index().cnae_class_description.value_counts()"
   ]
  },
  {
   "cell_type": "code",
   "execution_count": null,
   "id": "72a714b4",
   "metadata": {
    "slideshow": {
     "slide_type": "skip"
    }
   },
   "outputs": [],
   "source": [
    "# Examine data\n",
    "df_grouped_time_cnaec"
   ]
  },
  {
   "cell_type": "code",
   "execution_count": null,
   "id": "4bd24c70",
   "metadata": {
    "slideshow": {
     "slide_type": "skip"
    }
   },
   "outputs": [],
   "source": [
    "# Computing capital sum per CNAE Class in 2000 and 2021\n",
    "capital_sum_year_cnaec = df_grouped_time_cnaec.pivot_table(values='capital_social_sum', index='opening_year', \n",
    "                                                         columns='cnae_class_description', aggfunc='sum')"
   ]
  },
  {
   "cell_type": "code",
   "execution_count": null,
   "id": "0d360825",
   "metadata": {
    "slideshow": {
     "slide_type": "skip"
    }
   },
   "outputs": [],
   "source": [
    "# Grouping data by CNAE class and year\n",
    "\n",
    "# Grouping data by CNAE class and year\n",
    "df_grouped_cnaec_year = df.groupby([df.cnae_class_description, df.opening_year]).agg({'capital_social': ['count', 'sum', 'mean', 'median', 'min', 'max'], \n",
    "                                                           'total_socios': ['mean'],\n",
    "                                                           'total_branches': ['mean']})\n",
    "\n",
    "df_grouped_cnaec_year.columns = ['openings',\n",
    "                           'capital_social_sum',\n",
    "                            'capital_social_mean',\n",
    "                            'capital_social_median',\n",
    "                            'capital_social_min', \n",
    "                            'capital_social_max',\n",
    "                            'total_socios_mean',\n",
    "                            'total_branches_mean']\n",
    "\n",
    "df_grouped_cnaec_year.reset_index(inplace=True)\n"
   ]
  },
  {
   "cell_type": "code",
   "execution_count": null,
   "id": "2af7ad0f",
   "metadata": {
    "slideshow": {
     "slide_type": "skip"
    }
   },
   "outputs": [],
   "source": [
    "df_grouped_cnaec_year"
   ]
  },
  {
   "cell_type": "markdown",
   "id": "71737f0e",
   "metadata": {
    "slideshow": {
     "slide_type": "subslide"
    }
   },
   "source": [
    "## Company openings per Economic Activity in the last two Decades"
   ]
  },
  {
   "cell_type": "code",
   "execution_count": null,
   "id": "7561a298",
   "metadata": {
    "slideshow": {
     "slide_type": "fragment"
    },
    "tags": [
     "hide"
    ]
   },
   "outputs": [],
   "source": [
    "# Create subplots: use 'domain' type for Pie subplot\n",
    "fig = make_subplots(rows=1, cols=2, specs=[[{'type':'domain'}, {'type':'domain'}]])\n",
    "fig.add_trace(go.Pie(labels=df_grouped_cnaec_year.loc[(df_grouped_cnaec_year.opening_year>='1990')&(df_grouped_cnaec_year.opening_year<='1999')]['cnae_class_description'], \n",
    "                     values=df_grouped_cnaec_year.loc[(df_grouped_cnaec_year.opening_year>='1990')&(df_grouped_cnaec_year.opening_year<='1999')]['openings'], \n",
    "                     name=\"90's\"),\n",
    "              1, 1)\n",
    "fig.add_trace(go.Pie(labels=df_grouped_cnaec_year.loc[(df_grouped_cnaec_year.opening_year>='2010')&(df_grouped_cnaec_year.opening_year<='2019')]['cnae_class_description'], \n",
    "                     values=df_grouped_cnaec_year.loc[(df_grouped_cnaec_year.opening_year>='2010')&(df_grouped_cnaec_year.opening_year<='2019')]['openings'], \n",
    "                     name=\"10's\"),\n",
    "              1, 2)\n",
    "\n",
    "# Use `hole` to create a donut-like pie chart\n",
    "fig.update_traces(hole=.4, hoverinfo=\"label+percent\")\n",
    "\n",
    "fig.update_layout(\n",
    "    title_text=\"Company Openings per City 90's vs 10's\",\n",
    "    # Add annotations in the center of the donut pies.\n",
    "    annotations=[dict(text=\"90's\", x=0.20, y=0.5, font_size=20, showarrow=False),\n",
    "                 dict(text=\"10's\", x=0.80, y=0.5, font_size=20, showarrow=False)])\n",
    "fig.update_traces(textposition='inside')\n",
    "fig.update_layout(uniformtext_minsize=12, uniformtext_mode='hide')\n",
    "fig.update_layout(showlegend=False)\n",
    "fig.show()"
   ]
  },
  {
   "cell_type": "markdown",
   "id": "06fc3c45",
   "metadata": {
    "slideshow": {
     "slide_type": "subslide"
    }
   },
   "source": [
    "## Capital Sum per Economic Activity in the last two Decades"
   ]
  },
  {
   "cell_type": "code",
   "execution_count": null,
   "id": "4ae9f70e",
   "metadata": {
    "scrolled": true,
    "slideshow": {
     "slide_type": "fragment"
    },
    "tags": [
     "hide"
    ]
   },
   "outputs": [],
   "source": [
    "# Create subplots: use 'domain' type for Pie subplot\n",
    "fig = make_subplots(rows=1, cols=2, specs=[[{'type':'domain'}, {'type':'domain'}]])\n",
    "fig.add_trace(go.Pie(labels=df_grouped_cnaec_year.loc[(df_grouped_cnaec_year.opening_year>='1990')&(df_grouped_cnaec_year.opening_year<='1999')]['cnae_class_description'], \n",
    "                     values=df_grouped_cnaec_year.loc[(df_grouped_cnaec_year.opening_year>='1990')&(df_grouped_cnaec_year.opening_year<='1999')]['capital_social_sum'], \n",
    "                     name=\"90's\"),\n",
    "              1, 1)\n",
    "fig.add_trace(go.Pie(labels=df_grouped_cnaec_year.loc[(df_grouped_cnaec_year.opening_year>='2010')&(df_grouped_cnaec_year.opening_year<='2019')]['cnae_class_description'], \n",
    "                     values=df_grouped_cnaec_year.loc[(df_grouped_cnaec_year.opening_year>='2010')&(df_grouped_cnaec_year.opening_year<='2019')]['capital_social_sum'], \n",
    "                     name=\"10's\"),\n",
    "              1, 2)\n",
    "\n",
    "# Use `hole` to create a donut-like pie chart\n",
    "fig.update_traces(hole=.4, hoverinfo=\"label+percent\")\n",
    "\n",
    "fig.update_layout(\n",
    "    title_text=\"Capital Sum per City 90's vs 10's\",\n",
    "    # Add annotations in the center of the donut pies.\n",
    "    annotations=[dict(text=\"90's\", x=0.20, y=0.5, font_size=20, showarrow=False),\n",
    "                 dict(text=\"10's\", x=0.80, y=0.5, font_size=20, showarrow=False)])\n",
    "fig.update_traces(textposition='inside')\n",
    "fig.update_layout(uniformtext_minsize=12, uniformtext_mode='hide')\n",
    "fig.update_layout(showlegend=False)\n",
    "fig.show()"
   ]
  },
  {
   "cell_type": "markdown",
   "id": "a69ad50e",
   "metadata": {
    "slideshow": {
     "slide_type": "subslide"
    }
   },
   "source": [
    "Both company openings and social capital distribution can vary significantly between decades. Some activities might get higher traction than others.\n",
    "\n",
    "\n",
    "For example: Food Supermarkets where the star of the nineties, with 35% of the new companies' Social Capital.\n",
    "\n",
    "    \n",
    "However, it only reached the 6% of the cake in the next decade."
   ]
  },
  {
   "cell_type": "markdown",
   "id": "2c9e96e2",
   "metadata": {
    "slideshow": {
     "slide_type": "subslide"
    }
   },
   "source": [
    "New companies' are being more diverse in terms of economic activity.\n",
    "\n",
    "Likewise, social capital is less concentrated within economic activities. "
   ]
  },
  {
   "cell_type": "markdown",
   "id": "8907f128",
   "metadata": {
    "slideshow": {
     "slide_type": "slide"
    }
   },
   "source": [
    "# Limitations\n",
    "\n",
    "\n",
    "\n",
    "    "
   ]
  },
  {
   "cell_type": "markdown",
   "id": "9d988af7",
   "metadata": {
    "slideshow": {
     "slide_type": "fragment"
    }
   },
   "source": [
    "Time constraints resulted in scope limitations.\n",
    "\n",
    "\n",
    "Limited research and domain knowledge. "
   ]
  },
  {
   "cell_type": "markdown",
   "id": "28b0a612",
   "metadata": {
    "slideshow": {
     "slide_type": "fragment"
    }
   },
   "source": [
    "Data quality & reliability casts some doubts:\n",
    "    \n",
    "Are companies still active?\n",
    "    \n",
    "In which currency is money expressed? \n",
    "\n",
    "What about inflation?"
   ]
  },
  {
   "cell_type": "markdown",
   "id": "11d32338",
   "metadata": {
    "slideshow": {
     "slide_type": "fragment"
    }
   },
   "source": [
    "Capital does not imply performance, revenue, or profit.\n",
    "\n",
    "\n",
    "What about future predictions?"
   ]
  },
  {
   "cell_type": "markdown",
   "id": "49558033",
   "metadata": {
    "slideshow": {
     "slide_type": "slide"
    }
   },
   "source": [
    "## Suggested Next Steps\n"
   ]
  },
  {
   "cell_type": "markdown",
   "id": "0d16b69d",
   "metadata": {
    "slideshow": {
     "slide_type": "fragment"
    }
   },
   "source": [
    "Conduct extensive research guided by business goals.\n",
    "\n",
    "\n",
    "Get more data and ensure its quality and reliability.\n",
    "\n",
    "\n",
    "Cast code into functions to make it more efficient and re-usable to other cases.\n",
    "\n",
    "\n",
    "Improve visualizations, make them self explanatory."
   ]
  },
  {
   "cell_type": "markdown",
   "id": "be783b93",
   "metadata": {
    "slideshow": {
     "slide_type": "fragment"
    }
   },
   "source": [
    "Data should be enriched to generate more and better insights.\n",
    "\n",
    "\n",
    "Presentation should be improved to ensure effective communication.\n",
    "\n",
    "\n",
    "Organize visualizations in a Dashboard. \n",
    "\n",
    "\n",
    "Model data to predict future behavior of variables of interest."
   ]
  },
  {
   "cell_type": "markdown",
   "id": "af17c045",
   "metadata": {
    "slideshow": {
     "slide_type": "slide"
    }
   },
   "source": [
    "# Conclusions"
   ]
  },
  {
   "cell_type": "markdown",
   "id": "a6173720",
   "metadata": {
    "slideshow": {
     "slide_type": "fragment"
    }
   },
   "source": [
    "- Individual companies represent 65% of the registered companies in Paraná.\n",
    "\n",
    "\n",
    "- However, 97% of social capital is concentrated by limited liability companies. \n",
    "\n",
    "\n",
    "- The number of companies has been growing exponentially.\n",
    "\n",
    "\n",
    "- Social Capital is also on the rise, but with more volatility. \n",
    "\n",
    "\n",
    "- Curitiba captures the majority of the openings and the social capital.\n",
    "\n",
    "\n",
    "- However, the rest of the cities are catching up."
   ]
  },
  {
   "cell_type": "markdown",
   "id": "c5c84c16",
   "metadata": {
    "slideshow": {
     "slide_type": "slide"
    }
   },
   "source": [
    "# Conclusions"
   ]
  },
  {
   "cell_type": "markdown",
   "id": "7cf5ffe4",
   "metadata": {
    "slideshow": {
     "slide_type": "fragment"
    }
   },
   "source": [
    "- Businesses are spread within a wide variety of activities.\n",
    "\n",
    "\n",
    "- Capital is slightly more concentrated within activities, although quite diversified.\n",
    "\n",
    "\n",
    "\n",
    "- Both company openings and social capital distribution can vary significantly between decades. Some activities might get higher traction than others.\n",
    "\n",
    "\n",
    "- New companies' are being more diverse in terms of economic activity.\n",
    "\n",
    "\n",
    "- Likewise, social capital is less concentrated within economic activities. "
   ]
  },
  {
   "cell_type": "markdown",
   "id": "9b58fe9b",
   "metadata": {
    "slideshow": {
     "slide_type": "slide"
    }
   },
   "source": [
    "## Thank you for your time!\n",
    "\n",
    "\n",
    "\n",
    "Any questions?"
   ]
  },
  {
   "cell_type": "markdown",
   "id": "c14f2e8e",
   "metadata": {
    "slideshow": {
     "slide_type": "skip"
    }
   },
   "source": [
    "## Command to make the presentation:"
   ]
  },
  {
   "cell_type": "markdown",
   "id": "935da6dc",
   "metadata": {
    "slideshow": {
     "slide_type": "skip"
    }
   },
   "source": [
    "\n",
    "\n",
    "jupyter nbconvert notebooks/Analysis.ipynb --to slides --no-prompt --TagRemovePreprocessor.remove_input_tags={\\\"hide\\\"} --post serve \n"
   ]
  },
  {
   "cell_type": "code",
   "execution_count": null,
   "id": "d58cfc13",
   "metadata": {
    "slideshow": {
     "slide_type": "skip"
    }
   },
   "outputs": [],
   "source": []
  }
 ],
 "metadata": {
  "celltoolbar": "Slideshow",
  "kernelspec": {
   "display_name": "Python 3 (ipykernel)",
   "language": "python",
   "name": "python3"
  },
  "language_info": {
   "codemirror_mode": {
    "name": "ipython",
    "version": 3
   },
   "file_extension": ".py",
   "mimetype": "text/x-python",
   "name": "python",
   "nbconvert_exporter": "python",
   "pygments_lexer": "ipython3",
   "version": "3.8.12"
  },
  "toc": {
   "base_numbering": 1,
   "nav_menu": {},
   "number_sections": true,
   "sideBar": true,
   "skip_h1_title": false,
   "title_cell": "Table of Contents",
   "title_sidebar": "Contents",
   "toc_cell": false,
   "toc_position": {
    "height": "calc(100% - 180px)",
    "left": "10px",
    "top": "150px",
    "width": "261.804px"
   },
   "toc_section_display": true,
   "toc_window_display": true
  }
 },
 "nbformat": 4,
 "nbformat_minor": 5
}
